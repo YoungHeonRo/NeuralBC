{
 "cells": [
  {
   "cell_type": "code",
   "execution_count": 35,
   "metadata": {},
   "outputs": [],
   "source": [
    "import requests\n",
    "import json\n",
    "from pymongo import *\n",
    "\n",
    "def StrToDict(rawStr, dictList=[]):\n",
    "    strform = rawStr.replace(\"\\r\\n\", \"\")\n",
    "    dictform = json.loads(strform)\n",
    "    del strform\n",
    "    dictList = dictList + dictform\n",
    "    del dictform\n",
    "    return dictList\n",
    "\n",
    "# Connetion MongoDB\n",
    "client = MongoClient('52.79.239.183', 27017)\n",
    "db = client['COINBASE']\n",
    "collection = db['BTC/USD_30MIN']"
   ]
  },
  {
   "cell_type": "code",
   "execution_count": 36,
   "metadata": {},
   "outputs": [],
   "source": [
    "# read coin data in coinapi\n",
    "#url = 'https://rest.coinapi.io/v1/ohlcv/BITMEX_SPOT_BTC_USD/history?period_id=30MIN&time_start=2017-08-01T00:00:00&time_end=2017-12-31T23:59:59&limit=20000'\n",
    "url = 'https://rest.coinapi.io/v1/ohlcv/COINBASE_SPOT_BTC_USD/history?period_id=30MIN&time_start=2018-08-20T03:00:00&time_end=2018-08-20T04:00:00&limit=2'\n",
    "headers = {'X-CoinAPI-Key' : '9E9A7D62-16E1-4A51-BB55-E72C73817ED3'}\n",
    "response = requests.get(url, headers=headers)"
   ]
  },
  {
   "cell_type": "code",
   "execution_count": 37,
   "metadata": {},
   "outputs": [
    {
     "name": "stdout",
     "output_type": "stream",
     "text": [
      "{'Date': 'Mon, 20 Aug 2018 05:12:50 GMT', 'Content-Type': 'application/json', 'Transfer-Encoding': 'chunked', 'Connection': 'keep-alive', 'Set-Cookie': '__cfduid=ddea0fb6ad746674a2235313eb7a7f98f1534741969; expires=Tue, 20-Aug-19 05:12:49 GMT; path=/; domain=.coinapi.io; HttpOnly; Secure', 'Content-Encoding': 'gzip', 'Vary': 'Accept-Encoding', 'Request-Context': 'appId=cid-v1:9006a036-a027-444b-9b12-21861d70ec00', 'X-RateLimit-Limit': '1000', 'X-RateLimit-Remaining': '244', 'X-RateLimit-Reset': '2018-08-21T00:00:00.0000000Z', 'X-RateLimit-Request-Cost': '1', 'Strict-Transport-Security': 'max-age=0', 'X-Content-Type-Options': 'nosniff', 'Expect-CT': 'max-age=604800, report-uri=\"https://report-uri.cloudflare.com/cdn-cgi/beacon/expect-ct\"', 'Server': 'cloudflare', 'CF-RAY': '44d25dfdfae4a548-NRT'}\n"
     ]
    }
   ],
   "source": [
    "print(response.headers)"
   ]
  },
  {
   "cell_type": "code",
   "execution_count": 38,
   "metadata": {},
   "outputs": [],
   "source": [
    "# change text to dict\n",
    "text = response.text\n",
    "text_2 = text.replace(\"T\", \" \")\n",
    "dict_data = StrToDict(text_2)"
   ]
  },
  {
   "cell_type": "code",
   "execution_count": 39,
   "metadata": {},
   "outputs": [],
   "source": [
    "for x in dict_data:\n",
    "    x[\"time_period_start\"] = x[\"time_period_start\"][:19]\n",
    "    x[\"time_period_end\"] = x[\"time_period_end\"][:19]\n",
    "    x[\"time_open\"] = x[\"time_open\"][:19]\n",
    "    x[\"time_close\"] = x[\"time_close\"][:19]\n",
    "    \n",
    "    # change dict to json\n",
    "    json_data = json.dumps(x)\n",
    "    json_data_2 = json.loads(json_data)\n",
    "    collection.insert_one(json_data_2)"
   ]
  },
  {
   "cell_type": "code",
   "execution_count": 40,
   "metadata": {},
   "outputs": [
    {
     "name": "stdout",
     "output_type": "stream",
     "text": [
      "[\r\n",
      "  {\r\n",
      "    \"time_period_start\": \"2018-08-20T03:00:00.0000000Z\",\r\n",
      "    \"time_period_end\": \"2018-08-20T03:30:00.0000000Z\",\r\n",
      "    \"time_open\": \"2018-08-20T03:00:04.7530000Z\",\r\n",
      "    \"time_close\": \"2018-08-20T03:29:57.5460000Z\",\r\n",
      "    \"price_open\": 6498.270000000,\r\n",
      "    \"price_high\": 6499.000000000,\r\n",
      "    \"price_low\": 6493.000000000,\r\n",
      "    \"price_close\": 6493.000000000,\r\n",
      "    \"volume_traded\": 37.893991360,\r\n",
      "    \"trades_count\": 902\r\n",
      "  },\r\n",
      "  {\r\n",
      "    \"time_period_start\": \"2018-08-20T03:30:00.0000000Z\",\r\n",
      "    \"time_period_end\": \"2018-08-20T04:00:00.0000000Z\",\r\n",
      "    \"time_open\": \"2018-08-20T03:30:11.8400000Z\",\r\n",
      "    \"time_close\": \"2018-08-20T03:59:57.7790000Z\",\r\n",
      "    \"price_open\": 6493.000000000,\r\n",
      "    \"price_high\": 6499.000000000,\r\n",
      "    \"price_low\": 6483.990000000,\r\n",
      "    \"price_close\": 6493.000000000,\r\n",
      "    \"volume_traded\": 65.946258260,\r\n",
      "    \"trades_count\": 1068\r\n",
      "  }\r\n",
      "]\n"
     ]
    }
   ],
   "source": [
    "print(response.text)"
   ]
  },
  {
   "cell_type": "code",
   "execution_count": null,
   "metadata": {},
   "outputs": [],
   "source": []
  }
 ],
 "metadata": {
  "kernelspec": {
   "display_name": "Python 3",
   "language": "python",
   "name": "python3"
  },
  "language_info": {
   "codemirror_mode": {
    "name": "ipython",
    "version": 3
   },
   "file_extension": ".py",
   "mimetype": "text/x-python",
   "name": "python",
   "nbconvert_exporter": "python",
   "pygments_lexer": "ipython3",
   "version": "3.6.5"
  }
 },
 "nbformat": 4,
 "nbformat_minor": 2
}
