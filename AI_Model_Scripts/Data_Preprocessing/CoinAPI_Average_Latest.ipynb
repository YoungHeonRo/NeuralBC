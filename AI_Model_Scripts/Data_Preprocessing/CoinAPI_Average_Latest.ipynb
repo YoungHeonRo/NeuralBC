{
 "cells": [
  {
   "cell_type": "code",
   "execution_count": 1,
   "metadata": {},
   "outputs": [
    {
     "data": {
      "text/plain": [
       "<pymongo.results.InsertManyResult at 0x1b33749fdc8>"
      ]
     },
     "execution_count": 1,
     "metadata": {},
     "output_type": "execute_result"
    }
   ],
   "source": [
    "# import lib\n",
    "import pandas as pd\n",
    "from pymongo import *\n",
    "import json\n",
    "\n",
    "# Connection MongoDB\n",
    "client = MongoClient('52.79.239.183', 27017)\n",
    "\n",
    "# Find to MongoDB\n",
    "BINANCE = client.BINANCE['BTC/USDT_30MIN'].find().sort(\"time_period_start\", -1).limit(1)\n",
    "OKEX = client.OKEX['BTC/USDT_30MIN'].find().sort(\"time_period_start\", -1).limit(1)\n",
    "HUOBI = client.HUOBI['BTC/USDT_30MIN'].find().sort(\"time_period_start\", -1).limit(1)\n",
    "\n",
    "# Cursor to dataframe\n",
    "DF_BINANCE = pd.DataFrame(list(BINANCE))\n",
    "DF_OKEX = pd.DataFrame(list(OKEX))\n",
    "DF_HUOBI = pd.DataFrame(list(HUOBI))\n",
    "\n",
    "# Sort only used columns\n",
    "DF_BINANCE = DF_BINANCE.loc[:,['time_period_start', 'time_period_end', 'price_open', 'price_high', 'price_low', 'price_close', 'volume_traded', 'trades_count']]\n",
    "DF_OKEX = DF_OKEX.loc[:,['time_period_start', 'time_period_end', 'price_open', 'price_high', 'price_low', 'price_close', 'volume_traded', 'trades_count']]\n",
    "DF_HUOBI = DF_HUOBI.loc[:,['time_period_start', 'time_period_end', 'price_open', 'price_high', 'price_low', 'price_close', 'volume_traded', 'trades_count']]\n",
    "\n",
    "# Merge the dataframe\n",
    "COIN = DF_BINANCE.merge(DF_OKEX, on='time_period_start').merge(DF_HUOBI, on='time_period_start')\n",
    "\n",
    "# Column collection\n",
    "COIN_price_open = COIN.loc[:,['price_open', 'price_open_x', 'price_open_y']]\n",
    "COIN_price_high = COIN.loc[:,['price_high', 'price_high_x', 'price_high_y']]\n",
    "COIN_price_low = COIN.loc[:,['price_low', 'price_low_x', 'price_low_y']]\n",
    "COIN_price_close = COIN.loc[:,['price_close', 'price_close_x', 'price_close_y']]\n",
    "COIN_volume_traded = COIN.loc[:,['volume_traded', 'volume_traded_x', 'volume_traded_y']]\n",
    "COIN_trades_count = COIN.loc[:,['trades_count', 'trades_count_x', 'trades_count_y']]\n",
    "\n",
    "# Calculating the mean and median\n",
    "COIN_price_open['price_open'] = COIN_price_open.mean(1)\n",
    "COIN['price_open'] = COIN_price_open.loc[:,['price_open']]\n",
    "COIN_price_high['price_high'] = COIN_price_high.mean(1)\n",
    "COIN['price_high'] = COIN_price_high.loc[:,['price_high']]\n",
    "COIN_price_low['price_low'] = COIN_price_low.mean(1)\n",
    "COIN['price_low'] = COIN_price_low.loc[:,['price_low']]\n",
    "COIN_price_close['price_close'] = COIN_price_close.mean(1)\n",
    "COIN['price_close'] = COIN_price_close.loc[:,['price_close']]\n",
    "COIN_volume_traded['volume_traded'] = COIN_volume_traded.median(1)\n",
    "COIN['volume_traded'] = COIN_volume_traded.loc[:,['volume_traded']]\n",
    "COIN_trades_count['trades_count'] = COIN_trades_count.median(1)\n",
    "COIN['trades_count'] = COIN_trades_count.loc[:,['trades_count']]\n",
    "\n",
    "# Dataframe to JSON\n",
    "COIN_prec = COIN.loc[:,['time_period_start', 'time_period_end', 'price_open', 'price_high', 'price_low', 'price_close', 'volume_traded', 'trades_count']]\n",
    "COIN_json = COIN_prec.to_json(orient='records')\n",
    "\n",
    "# Insert to MongoDB\n",
    "db = client['COIN']\n",
    "collection = db['BTC/USDT_30MIN_test']\n",
    "collection.insert_many(json.loads(COIN_json))"
   ]
  },
  {
   "cell_type": "code",
   "execution_count": null,
   "metadata": {},
   "outputs": [],
   "source": []
  }
 ],
 "metadata": {
  "kernelspec": {
   "display_name": "Python 3",
   "language": "python",
   "name": "python3"
  },
  "language_info": {
   "codemirror_mode": {
    "name": "ipython",
    "version": 3
   },
   "file_extension": ".py",
   "mimetype": "text/x-python",
   "name": "python",
   "nbconvert_exporter": "python",
   "pygments_lexer": "ipython3",
   "version": "3.6.5"
  }
 },
 "nbformat": 4,
 "nbformat_minor": 2
}
