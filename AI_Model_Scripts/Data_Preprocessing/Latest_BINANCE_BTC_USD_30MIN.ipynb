{
 "cells": [
  {
   "cell_type": "code",
   "execution_count": 1,
   "metadata": {},
   "outputs": [],
   "source": [
    "import requests\n",
    "import json\n",
    "from pymongo import *\n",
    "\n",
    "def StrToDict(rawStr, dictList=[]):\n",
    "    strform = rawStr.replace(\"\\r\\n\", \"\")\n",
    "    dictform = json.loads(strform)\n",
    "    del strform\n",
    "    dictList = dictList + dictform\n",
    "    del dictform\n",
    "    return dictList\n",
    "\n",
    "# Connetion MongoDB\n",
    "client = MongoClient('52.79.239.183', 27017)\n",
    "db = client['BINANCE']\n",
    "collection = db['BTC/USD_30MIN']\n",
    "\n",
    "url = 'https://rest.coinapi.io/v1/ohlcv/BINANCE_SPOT_BTC_USDT/latest?period_id=30MIN&limit=1'\n",
    "headers = {'X-CoinAPI-Key' : '9E9A7D62-16E1-4A51-BB55-E72C73817ED3'}\n",
    "response = requests.get(url, headers=headers)\n",
    "\n",
    "# change text to dict\n",
    "text = response.text\n",
    "text_2 = text.replace(\"T\", \" \")\n",
    "dict_data = StrToDict(text_2)\n",
    "\n",
    "for x in dict_data:\n",
    "    x[\"time_period_start\"] = x[\"time_period_start\"][:19]\n",
    "    x[\"time_period_end\"] = x[\"time_period_end\"][:19]\n",
    "    x[\"time_open\"] = x[\"time_open\"][:19]\n",
    "    x[\"time_close\"] = x[\"time_close\"][:19]\n",
    "\n",
    "    # change dict to json\n",
    "    json_data = json.dumps(x)\n",
    "    json_data_2 = json.loads(json_data)\n",
    "    collection.insert_one(json_data_2)"
   ]
  },
  {
   "cell_type": "code",
   "execution_count": null,
   "metadata": {},
   "outputs": [],
   "source": []
  }
 ],
 "metadata": {
  "kernelspec": {
   "display_name": "Python 3",
   "language": "python",
   "name": "python3"
  },
  "language_info": {
   "codemirror_mode": {
    "name": "ipython",
    "version": 3
   },
   "file_extension": ".py",
   "mimetype": "text/x-python",
   "name": "python",
   "nbconvert_exporter": "python",
   "pygments_lexer": "ipython3",
   "version": "3.6.5"
  }
 },
 "nbformat": 4,
 "nbformat_minor": 2
}
