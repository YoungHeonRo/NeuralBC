{
 "cells": [
  {
   "cell_type": "code",
   "execution_count": 18,
   "metadata": {},
   "outputs": [
    {
     "data": {
      "text/plain": [
       "<pymongo.results.InsertManyResult at 0x1c246b2cc08>"
      ]
     },
     "execution_count": 18,
     "metadata": {},
     "output_type": "execute_result"
    }
   ],
   "source": [
    "import sys\n",
    "import json\n",
    "from pymongo import *\n",
    "from bson import *\n",
    "import requests\n",
    "\n",
    "# Coin data\n",
    "url = 'https://rest.coinapi.io/v1/ohlcv/BITSTAMP_SPOT_BTC_USD/latest?period_id=5MIN&limit=1'\n",
    "headers = {'X-CoinAPI-Key' : '9E9A7D62-16E1-4A51-BB55-E72C73817ED3'}\n",
    "response = requests.get(url, headers=headers)\n",
    "\n",
    "data = json.loads(response.text)\n",
    "\n",
    "# Connetion MongoDB\n",
    "client = MongoClient('52.79.241.214', 27017)\n",
    "db = client['Coin']\n",
    "collection = db['BTC_USD']\n",
    "\n",
    "collection.insert_many(data)"
   ]
  },
  {
   "cell_type": "code",
   "execution_count": null,
   "metadata": {},
   "outputs": [],
   "source": []
  }
 ],
 "metadata": {
  "kernelspec": {
   "display_name": "Python 3",
   "language": "python",
   "name": "python3"
  },
  "language_info": {
   "codemirror_mode": {
    "name": "ipython",
    "version": 3
   },
   "file_extension": ".py",
   "mimetype": "text/x-python",
   "name": "python",
   "nbconvert_exporter": "python",
   "pygments_lexer": "ipython3",
   "version": "3.6.5"
  }
 },
 "nbformat": 4,
 "nbformat_minor": 2
}
