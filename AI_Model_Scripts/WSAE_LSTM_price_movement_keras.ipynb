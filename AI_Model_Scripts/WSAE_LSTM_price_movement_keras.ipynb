{
 "cells": [
  {
   "cell_type": "code",
   "execution_count": 1,
   "metadata": {},
   "outputs": [],
   "source": [
    "import matplotlib.pyplot as plt\n",
    "import tensorflow as tf\n",
    "import numpy as np\n",
    "import pandas as pd\n",
    "import os\n",
    "from sklearn.preprocessing import MinMaxScaler\n",
    "%matplotlib inline"
   ]
  },
  {
   "cell_type": "markdown",
   "metadata": {},
   "source": [
    "## Parsing data from MongoDB"
   ]
  },
  {
   "cell_type": "code",
   "execution_count": 2,
   "metadata": {},
   "outputs": [
    {
     "name": "stdout",
     "output_type": "stream",
     "text": [
      "DB connection complete!!\n"
     ]
    }
   ],
   "source": [
    "from pymongo import MongoClient\n",
    "from datetime import datetime\n",
    "client = MongoClient('52.79.241.214', 27017)\n",
    "print(\"DB connection complete!!\")"
   ]
  },
  {
   "cell_type": "code",
   "execution_count": 3,
   "metadata": {},
   "outputs": [],
   "source": [
    "DB_Coin = client[\"Coin-USD\"]\n",
    "Collection = DB_Coin['BTC']\n",
    "import time\n",
    "DB_schema = []\n",
    "i = 0\n",
    "\n",
    "for collect in Collection.find():\n",
    "    #if i==2902:\n",
    "    if i==905:\n",
    "        continue\n",
    "    temp_record = {}\n",
    "\n",
    "    temp_record['open'] = collect['Open']\n",
    "    temp_record['close'] = collect['Price']\n",
    "    temp_record['high'] = collect['High']\n",
    "    temp_record['low'] = collect['Low']\n",
    "    temp_record['volume'] = collect['Volume']    \n",
    "    temp_record['Date'] = collect['Date']\n",
    "    DB_schema.append(temp_record)\n",
    "    del temp_record\n",
    "    i = i+1"
   ]
  },
  {
   "cell_type": "markdown",
   "metadata": {},
   "source": [
    "## Data preprocessing"
   ]
  },
  {
   "cell_type": "code",
   "execution_count": 4,
   "metadata": {},
   "outputs": [
    {
     "name": "stderr",
     "output_type": "stream",
     "text": [
      "c:\\users\\user\\appdata\\local\\programs\\python\\python35\\lib\\site-packages\\ipykernel_launcher.py:3: FutureWarning: 'Date' is both an index level and a column label.\n",
      "Defaulting to column, but this will raise an ambiguity error in a future version\n",
      "  This is separate from the ipykernel package so we can avoid doing imports until\n"
     ]
    },
    {
     "data": {
      "text/plain": [
       "<matplotlib.axes._subplots.AxesSubplot at 0x1fe43795198>"
      ]
     },
     "execution_count": 4,
     "metadata": {},
     "output_type": "execute_result"
    },
    {
     "data": {
      "image/png": "[encoded data removed]",
      "text/plain": [
       "<Figure size 432x288 with 1 Axes>"
      ]
     },
     "metadata": {},
     "output_type": "display_data"
    }
   ],
   "source": [
    "DF = pd.DataFrame(DB_schema)\n",
    "DF.index = DF['Date']\n",
    "DF = DF.sort_values(by='Date')\n",
    "DF['close'].plot()"
   ]
  },
  {
   "cell_type": "code",
   "execution_count": 5,
   "metadata": {},
   "outputs": [
    {
     "data": {
      "text/plain": [
       "(905, 6)"
      ]
     },
     "execution_count": 5,
     "metadata": {},
     "output_type": "execute_result"
    }
   ],
   "source": [
    "DF.values.shape"
   ]
  },
  {
   "cell_type": "code",
   "execution_count": 6,
   "metadata": {},
   "outputs": [],
   "source": [
    "target_names = ['close']\n",
    "shift_hours = 5\n",
    "DF_targets = DF[target_names].shift(-shift_hours)"
   ]
  },
  {
   "cell_type": "code",
   "execution_count": 7,
   "metadata": {},
   "outputs": [
    {
     "data": {
      "text/html": [
       "<div>\n",
       "<style scoped>\n",
       "    .dataframe tbody tr th:only-of-type {\n",
       "        vertical-align: middle;\n",
       "    }\n",
       "\n",
       "    .dataframe tbody tr th {\n",
       "        vertical-align: top;\n",
       "    }\n",
       "\n",
       "    .dataframe thead th {\n",
       "        text-align: right;\n",
       "    }\n",
       "</style>\n",
       "<table border=\"1\" class=\"dataframe\">\n",
       "  <thead>\n",
       "    <tr style=\"text-align: right;\">\n",
       "      <th></th>\n",
       "      <th>close</th>\n",
       "      <th>high</th>\n",
       "      <th>low</th>\n",
       "      <th>open</th>\n",
       "      <th>volume</th>\n",
       "    </tr>\n",
       "    <tr>\n",
       "      <th>Date</th>\n",
       "      <th></th>\n",
       "      <th></th>\n",
       "      <th></th>\n",
       "      <th></th>\n",
       "      <th></th>\n",
       "    </tr>\n",
       "  </thead>\n",
       "  <tbody>\n",
       "    <tr>\n",
       "      <th>20160215</th>\n",
       "      <td>401.1</td>\n",
       "      <td>410.9</td>\n",
       "      <td>396.6</td>\n",
       "      <td>405.5</td>\n",
       "      <td>86130.0</td>\n",
       "    </tr>\n",
       "    <tr>\n",
       "      <th>20160216</th>\n",
       "      <td>406.4</td>\n",
       "      <td>409.8</td>\n",
       "      <td>398.0</td>\n",
       "      <td>401.1</td>\n",
       "      <td>68330.0</td>\n",
       "    </tr>\n",
       "    <tr>\n",
       "      <th>20160217</th>\n",
       "      <td>417.1</td>\n",
       "      <td>421.5</td>\n",
       "      <td>405.0</td>\n",
       "      <td>406.4</td>\n",
       "      <td>90320.0</td>\n",
       "    </tr>\n",
       "    <tr>\n",
       "      <th>20160218</th>\n",
       "      <td>421.4</td>\n",
       "      <td>425.5</td>\n",
       "      <td>414.8</td>\n",
       "      <td>417.1</td>\n",
       "      <td>77350.0</td>\n",
       "    </tr>\n",
       "    <tr>\n",
       "      <th>20160219</th>\n",
       "      <td>420.0</td>\n",
       "      <td>424.3</td>\n",
       "      <td>416.4</td>\n",
       "      <td>421.4</td>\n",
       "      <td>52240.0</td>\n",
       "    </tr>\n",
       "    <tr>\n",
       "      <th>20160220</th>\n",
       "      <td>440.1</td>\n",
       "      <td>442.7</td>\n",
       "      <td>419.5</td>\n",
       "      <td>420.0</td>\n",
       "      <td>111630.0</td>\n",
       "    </tr>\n",
       "    <tr>\n",
       "      <th>20160221</th>\n",
       "      <td>437.9</td>\n",
       "      <td>447.6</td>\n",
       "      <td>425.5</td>\n",
       "      <td>440.1</td>\n",
       "      <td>100500.0</td>\n",
       "    </tr>\n",
       "    <tr>\n",
       "      <th>20160222</th>\n",
       "      <td>437.8</td>\n",
       "      <td>440.2</td>\n",
       "      <td>431.3</td>\n",
       "      <td>437.9</td>\n",
       "      <td>56010.0</td>\n",
       "    </tr>\n",
       "    <tr>\n",
       "      <th>20160223</th>\n",
       "      <td>419.9</td>\n",
       "      <td>440.8</td>\n",
       "      <td>414.4</td>\n",
       "      <td>437.8</td>\n",
       "      <td>93720.0</td>\n",
       "    </tr>\n",
       "    <tr>\n",
       "      <th>20160224</th>\n",
       "      <td>422.7</td>\n",
       "      <td>425.2</td>\n",
       "      <td>410.4</td>\n",
       "      <td>419.9</td>\n",
       "      <td>66510.0</td>\n",
       "    </tr>\n",
       "  </tbody>\n",
       "</table>\n",
       "</div>"
      ],
      "text/plain": [
       "          close   high    low   open    volume\n",
       "Date                                          \n",
       "20160215  401.1  410.9  396.6  405.5   86130.0\n",
       "20160216  406.4  409.8  398.0  401.1   68330.0\n",
       "20160217  417.1  421.5  405.0  406.4   90320.0\n",
       "20160218  421.4  425.5  414.8  417.1   77350.0\n",
       "20160219  420.0  424.3  416.4  421.4   52240.0\n",
       "20160220  440.1  442.7  419.5  420.0  111630.0\n",
       "20160221  437.9  447.6  425.5  440.1  100500.0\n",
       "20160222  437.8  440.2  431.3  437.9   56010.0\n",
       "20160223  419.9  440.8  414.4  437.8   93720.0\n",
       "20160224  422.7  425.2  410.4  419.9   66510.0"
      ]
     },
     "execution_count": 7,
     "metadata": {},
     "output_type": "execute_result"
    }
   ],
   "source": [
    "DF = DF[['close', 'high', 'low', 'open', 'volume']]\n",
    "DF.head(shift_hours+5)"
   ]
  },
  {
   "cell_type": "code",
   "execution_count": 8,
   "metadata": {},
   "outputs": [
    {
     "data": {
      "text/html": [
       "<div>\n",
       "<style scoped>\n",
       "    .dataframe tbody tr th:only-of-type {\n",
       "        vertical-align: middle;\n",
       "    }\n",
       "\n",
       "    .dataframe tbody tr th {\n",
       "        vertical-align: top;\n",
       "    }\n",
       "\n",
       "    .dataframe thead th {\n",
       "        text-align: right;\n",
       "    }\n",
       "</style>\n",
       "<table border=\"1\" class=\"dataframe\">\n",
       "  <thead>\n",
       "    <tr style=\"text-align: right;\">\n",
       "      <th></th>\n",
       "      <th>close</th>\n",
       "    </tr>\n",
       "    <tr>\n",
       "      <th>Date</th>\n",
       "      <th></th>\n",
       "    </tr>\n",
       "  </thead>\n",
       "  <tbody>\n",
       "    <tr>\n",
       "      <th>20160215</th>\n",
       "      <td>440.1</td>\n",
       "    </tr>\n",
       "    <tr>\n",
       "      <th>20160216</th>\n",
       "      <td>437.9</td>\n",
       "    </tr>\n",
       "    <tr>\n",
       "      <th>20160217</th>\n",
       "      <td>437.8</td>\n",
       "    </tr>\n",
       "    <tr>\n",
       "      <th>20160218</th>\n",
       "      <td>419.9</td>\n",
       "    </tr>\n",
       "    <tr>\n",
       "      <th>20160219</th>\n",
       "      <td>422.7</td>\n",
       "    </tr>\n",
       "    <tr>\n",
       "      <th>20160220</th>\n",
       "      <td>423.5</td>\n",
       "    </tr>\n",
       "    <tr>\n",
       "      <th>20160221</th>\n",
       "      <td>427.3</td>\n",
       "    </tr>\n",
       "    <tr>\n",
       "      <th>20160222</th>\n",
       "      <td>431.3</td>\n",
       "    </tr>\n",
       "    <tr>\n",
       "      <th>20160223</th>\n",
       "      <td>432.5</td>\n",
       "    </tr>\n",
       "    <tr>\n",
       "      <th>20160224</th>\n",
       "      <td>436.2</td>\n",
       "    </tr>\n",
       "  </tbody>\n",
       "</table>\n",
       "</div>"
      ],
      "text/plain": [
       "          close\n",
       "Date           \n",
       "20160215  440.1\n",
       "20160216  437.9\n",
       "20160217  437.8\n",
       "20160218  419.9\n",
       "20160219  422.7\n",
       "20160220  423.5\n",
       "20160221  427.3\n",
       "20160222  431.3\n",
       "20160223  432.5\n",
       "20160224  436.2"
      ]
     },
     "execution_count": 8,
     "metadata": {},
     "output_type": "execute_result"
    }
   ],
   "source": [
    "DF_targets.head(shift_hours+5)"
   ]
  },
  {
   "cell_type": "code",
   "execution_count": 9,
   "metadata": {},
   "outputs": [
    {
     "name": "stdout",
     "output_type": "stream",
     "text": [
      "[[0. 0. 1.]\n",
      " [1. 0. 0.]\n",
      " [0. 0. 1.]\n",
      " ...\n",
      " [1. 0. 0.]\n",
      " [1. 0. 0.]\n",
      " [1. 0. 0.]]\n"
     ]
    }
   ],
   "source": [
    "Diff_y_data = np.diff(DF_targets.values, axis=0)\n",
    "Movement = []\n",
    "Grad = 1.000   # 기준점\n",
    "for i in range(Diff_y_data.shape[0]):\n",
    "    if Diff_y_data[i][0] > Grad:\n",
    "        Movement.append(1)   # 상승\n",
    "    elif Diff_y_data[i][0] < -Grad:\n",
    "        Movement.append(-1)  # 하락\n",
    "    else:\n",
    "        Movement.append(0)   # 보합\n",
    "del Diff_y_data\n",
    "y_data = np.array(Movement)  # list to np.array\n",
    "from tensorflow.python.keras.utils import to_categorical\n",
    "y_data_one_hot = to_categorical(y_data, num_classes=3) # one-hot encoding으로 변환한다\n",
    "del y_data\n",
    "print(y_data_one_hot)"
   ]
  },
  {
   "cell_type": "code",
   "execution_count": 10,
   "metadata": {},
   "outputs": [
    {
     "name": "stdout",
     "output_type": "stream",
     "text": [
      "<class 'numpy.ndarray'>\n",
      "Shape:  (500, 5)\n"
     ]
    }
   ],
   "source": [
    "start_time_stamp = 400   # 시작점\n",
    "x_data = DF.values[start_time_stamp:-shift_hours]\n",
    "print(type(x_data))\n",
    "print(\"Shape: \", x_data.shape)"
   ]
  },
  {
   "cell_type": "code",
   "execution_count": 11,
   "metadata": {},
   "outputs": [
    {
     "name": "stdout",
     "output_type": "stream",
     "text": [
      "(904, 3)\n"
     ]
    }
   ],
   "source": [
    "print(y_data_one_hot.shape)"
   ]
  },
  {
   "cell_type": "code",
   "execution_count": 12,
   "metadata": {},
   "outputs": [
    {
     "name": "stdout",
     "output_type": "stream",
     "text": [
      "<class 'numpy.ndarray'>\n",
      "Shape:  (500, 3)\n"
     ]
    }
   ],
   "source": [
    "y_data = y_data_one_hot[start_time_stamp-1:-shift_hours]   # 미분값으로 x_data보다 변수하나가 적기 때문\n",
    "print(type(y_data))\n",
    "print(\"Shape: \", y_data.shape)"
   ]
  },
  {
   "cell_type": "code",
   "execution_count": 13,
   "metadata": {},
   "outputs": [
    {
     "name": "stdout",
     "output_type": "stream",
     "text": [
      "300\n",
      "200\n"
     ]
    }
   ],
   "source": [
    "num_data = len(x_data)\n",
    "train_split = 0.6\n",
    "num_train = int(train_split * num_data)\n",
    "num_test = num_data - num_train\n",
    "print(num_train)\n",
    "print(num_test)"
   ]
  },
  {
   "cell_type": "code",
   "execution_count": 14,
   "metadata": {},
   "outputs": [],
   "source": [
    "x_train = x_data[0:num_train]\n",
    "x_test = x_data[num_train:]\n",
    "y_train = y_data[0:num_train]\n",
    "y_test = y_data[num_train:]\n",
    "num_x_signals = x_data.shape[1]\n",
    "num_y_signals = y_data.shape[1]"
   ]
  },
  {
   "cell_type": "code",
   "execution_count": 15,
   "metadata": {},
   "outputs": [
    {
     "name": "stdout",
     "output_type": "stream",
     "text": [
      "Min: 0.0\n",
      "Max: 1.0\n"
     ]
    }
   ],
   "source": [
    "x_scaler = MinMaxScaler()\n",
    "x_train_scaled = x_scaler.fit_transform(x_train)  # 데이터의 크기를 0에서 1사이로 조정\n",
    "print(\"Min:\", np.min(x_train_scaled))\n",
    "print(\"Max:\", np.max(x_train_scaled))"
   ]
  },
  {
   "cell_type": "code",
   "execution_count": 16,
   "metadata": {},
   "outputs": [],
   "source": [
    "x_test_scaled = x_scaler.transform(x_test)\n",
    "y_scaler = MinMaxScaler()\n",
    "y_train_scaled = y_scaler.fit_transform(y_train)\n",
    "y_test_scaled = y_scaler.transform(y_test)"
   ]
  },
  {
   "cell_type": "markdown",
   "metadata": {},
   "source": [
    "## Data Generation"
   ]
  },
  {
   "cell_type": "code",
   "execution_count": 18,
   "metadata": {},
   "outputs": [],
   "source": [
    "def batch_generator(batch_size, sequence_length):\n",
    "    \"\"\"\n",
    "    Generator function for creating random batches of training-data.\n",
    "    \"\"\"\n",
    "    # Infinite loop.\n",
    "    while True:\n",
    "        # Allocate a new array for the batch of input-signals.\n",
    "        x_shape = (batch_size, sequence_length, num_x_signals)\n",
    "        x_batch = np.zeros(shape=x_shape, dtype=np.float16)\n",
    "        # Allocate a new array for the batch of output-signals.\n",
    "        y_shape = (batch_size, sequence_length, num_y_signals)\n",
    "        y_batch = np.zeros(shape=y_shape, dtype=np.float16)\n",
    "        # Fill the batch with random sequences of data.\n",
    "        for i in range(batch_size):\n",
    "            # Get a random start-index.\n",
    "            # This points somewhere into the training-data.\n",
    "            idx = np.random.randint(num_train - sequence_length)\n",
    "            # Copy the sequences of data starting at this index.\n",
    "            x_batch[i] = x_train_scaled[idx:idx+sequence_length]\n",
    "            y_batch[i] = y_train_scaled[idx:idx+sequence_length]\n",
    "        yield (x_batch, y_batch)"
   ]
  },
  {
   "cell_type": "code",
   "execution_count": 19,
   "metadata": {},
   "outputs": [],
   "source": [
    "#batch_size = 256\n",
    "batch_size = 2\n",
    "sequence_length = 150\n",
    "generator = batch_generator(batch_size=batch_size, sequence_length=sequence_length)"
   ]
  },
  {
   "cell_type": "code",
   "execution_count": 20,
   "metadata": {},
   "outputs": [],
   "source": [
    "x_batch, y_batch = next(generator)"
   ]
  },
  {
   "cell_type": "code",
   "execution_count": 21,
   "metadata": {},
   "outputs": [
    {
     "name": "stdout",
     "output_type": "stream",
     "text": [
      "(2, 150, 5)\n",
      "(2, 150, 3)\n"
     ]
    }
   ],
   "source": [
    "# Provides randomized 256 batches. Each sequence has 1344 time-series observations. Each observation has 5 inputs and 1 outputs\n",
    "print(x_batch.shape)\n",
    "print(y_batch.shape)"
   ]
  },
  {
   "cell_type": "code",
   "execution_count": 22,
   "metadata": {},
   "outputs": [
    {
     "data": {
      "text/plain": [
       "[<matplotlib.lines.Line2D at 0x1fe459b0ef0>]"
      ]
     },
     "execution_count": 22,
     "metadata": {},
     "output_type": "execute_result"
    },
    {
     "data": {
      "image/png": "[encoded data removed]",
      "text/plain": [
       "<Figure size 432x288 with 1 Axes>"
      ]
     },
     "metadata": {},
     "output_type": "display_data"
    }
   ],
   "source": [
    "batch = 0 # First sequence in the batch.\n",
    "signal = 0 # First signal from the 20 input-signals.\n",
    "seq = x_batch[batch, :, signal]\n",
    "plt.plot(seq)"
   ]
  },
  {
   "cell_type": "code",
   "execution_count": 23,
   "metadata": {},
   "outputs": [
    {
     "data": {
      "text/plain": [
       "[<matplotlib.lines.Line2D at 0x1fe459f4978>]"
      ]
     },
     "execution_count": 23,
     "metadata": {},
     "output_type": "execute_result"
    },
    {
     "data": {
      "image/png": "[encoded data removed]",
      "text/plain": [
       "<Figure size 432x288 with 1 Axes>"
      ]
     },
     "metadata": {},
     "output_type": "display_data"
    }
   ],
   "source": [
    "seq = y_batch[batch, :, signal]\n",
    "plt.plot(seq)"
   ]
  },
  {
   "cell_type": "markdown",
   "metadata": {},
   "source": [
    "#### Validation set"
   ]
  },
  {
   "cell_type": "code",
   "execution_count": 24,
   "metadata": {},
   "outputs": [],
   "source": [
    "validation_data = (np.expand_dims(x_test_scaled, axis=0), np.expand_dims(y_test_scaled, axis=0))"
   ]
  },
  {
   "cell_type": "markdown",
   "metadata": {},
   "source": [
    "# Auto-Encoder"
   ]
  },
  {
   "cell_type": "code",
   "execution_count": null,
   "metadata": {},
   "outputs": [],
   "source": [
    "from keras.layers import Input, Dense\n",
    "from keras.models import Model\n",
    "from keras import backend as K\n",
    "\n",
    "\n",
    "############################################################################# ???\n",
    "def Auto_encoder_cost(X_input, H_Layer, X_reconstructed, W_ih, W_hr):\n",
    "    ############# Hyper-parameter #############\n",
    "    param_sparsity = 0.01\n",
    "    Lambda = 0.0001 # param_weight_decay\n",
    "    Beta = 3 # param_sparse_panelty\n",
    "    ###########################################\n",
    "    \n",
    "    average_act_hidden = tf.reduce_mean(H_Layer,axis=0)   #Average hidden layer over all data points in X, Page 14 in https://web.stanford.edu/class/cs294a/sparseAutoencoder_2011new.pdf\n",
    "    diff = X_input - X_reconstructed\n",
    "    KL = Kullback_Leibler_divergence(param_sparsity, average_act_hidden)\n",
    "    cost= 0.5*tf.reduce_mean(tf.reduce_sum(tf.pow(diff,2),axis=1)) + 0.5*Lambda*(tf.nn.l2_loss(W_ih) + tf.nn.l2_loss(W_hr)) + Beta*tf.reduce_sum(KL)\n",
    "    return cost\n",
    "\n",
    "def Kullback_Leibler_divergence(rho, rho_hat):\n",
    "    return rho * tf.log(rho) - rho * tf.log(rho_hat) + (1 - rho) * tf.log(1 - rho) - (1 - rho) * tf.log(1 - rho_hat) \n",
    "\n",
    "\n",
    "def Single_Layer_Autoencoder(input_dim, encoding_dim=4):\n",
    "    \n",
    "    # this is our input placeholder\n",
    "    input_encode = Input(shape=(input_dim,))\n",
    "    # \"encoded\" is the encoded representation of the input\n",
    "    encoded = Dense(encoding_dim, activation='sigmoid')(input_encode)\n",
    "    decoded = Dense(input_dim, activation='sigmoid')(encoded)\n",
    "    # this model maps an input to its reconstruction\n",
    "    autoencoder = Model(input_encode, decoded)\n",
    "    autoencoder_cost = Auto_encoder_cost(encoded)\n",
    "    autoencoder.compile(optimizer='sgd', loss=autoencoder_cost)\n",
    "    return autoencoder\n",
    "\n",
    "\n",
    "def Get_layer_values(model, layer_idx):\n",
    "    get_values = K.function([model.layers[0].input], [model.layers[layer_idx].output])\n",
    "    return get_values([x])[0]\n",
    "    \n",
    "autoencoder1 = Single_Layer_Autoencoder(5, 4)\n",
    "autoencoder1.fit(x_batch, x_batch, nb_epoch=20, batch_size=16)\n",
    "autoencoder2 = Single_Layer_Autoencoder(4, 4)\n",
    "autoencoder1_hidden = Get_layer_values(autoencoder1, 1)\n",
    "autoencoder2.fit(autoencoder1_hidden, autoencoder1_hidden, nb_epoch=20, batch_size=16)\n",
    "autoencoder3 = Single_Layer_Autoencoder(4, 4)\n",
    "autoencoder2_hidden = Get_layer_values(autoencoder2, 1)\n",
    "autoencoder3.fit(autoencoder2_hidden, autoencoder2_hidden, nb_epoch=20, batch_size=16)\n",
    "autoencoder4 = Single_Layer_Autoencoder(4, 4)\n",
    "autoencoder3_hidden = Get_layer_values(autoencoder3, 1)\n",
    "autoencoder4.fit(autoencoder3_hidden, autoencoder3_hidden, nb_epoch=20, batch_size=16)\n",
    "autoencoder4_output = Get_layer_values(autoencoder4, -1)\n",
    "\n",
    "num_x_signals = autoencoder4_output.shape[1]\n",
    "\n",
    "\n"
   ]
  },
  {
   "cell_type": "markdown",
   "metadata": {},
   "source": [
    "## Build a LSTM model"
   ]
  },
  {
   "cell_type": "code",
   "execution_count": 25,
   "metadata": {},
   "outputs": [],
   "source": [
    "from tensorflow.python.keras.models import Sequential\n",
    "from tensorflow.python.keras.layers import Input, Dense, LSTM, Embedding\n",
    "from tensorflow.python.keras.optimizers import Adagrad\n",
    "from tensorflow.python.keras.callbacks import EarlyStopping, ModelCheckpoint, TensorBoard, ReduceLROnPlateau"
   ]
  },
  {
   "cell_type": "code",
   "execution_count": 26,
   "metadata": {},
   "outputs": [],
   "source": [
    "LSTM_model = Sequential()\n",
    "#LSTM_model.add(LSTM(units=512, return_sequences=True, input_shape=(None, num_x_signals,)))\n",
    "LSTM_model.add(LSTM(units=220, return_sequences=True, input_shape=(None, num_x_signals,)))\n",
    "LSTM_model.add(Dense(num_y_signals, activation='sigmoid'))\n",
    "if False:\n",
    "    from tensorflow.python.keras.initializers import RandomUniform\n",
    "    # Maybe use lower init-ranges.\n",
    "    init = RandomUniform(minval=-0.05, maxval=0.05)\n",
    "    LSTM_model.add(Dense(num_y_signals, activation='linear', kernel_initializer=init))"
   ]
  },
  {
   "cell_type": "markdown",
   "metadata": {},
   "source": [
    "### Loss Function"
   ]
  },
  {
   "cell_type": "code",
   "execution_count": 27,
   "metadata": {},
   "outputs": [],
   "source": [
    "warmup_steps = 50\n",
    "def loss_softmax_cross_entropy_warmup(y_true, y_pred):\n",
    "    \n",
    "    # by taking slices of the tensors.\n",
    "    y_true_slice = y_true[:, warmup_steps:, :]\n",
    "    y_pred_slice = y_pred[:, warmup_steps:, :]\n",
    "    \n",
    "    # Classification 문제이기 때문에 softmax cross-entropy를 쓴다.\n",
    "    loss = tf.losses.softmax_cross_entropy(onehot_labels=y_true_slice, logits=y_pred_slice )\n",
    "    loss_mean = tf.reduce_mean(loss)\n",
    "    return loss_mean\n",
    "\n",
    "from sklearn.metrics import r2_score\n",
    "import matplotlib.pyplot as plt\n",
    "\n",
    "# Mean Absolute percentage error\n",
    "def mean_absolute_percentage_error(y_true, y_pred):\n",
    "    #y_true, y_pred = np.array(y_true), np.array(y_pred)\n",
    "    return np.mean(np.abs((y_true - y_pred) / y_true)) * 100\n",
    "\n",
    "# Theil_U\n",
    "def Theil_U(y_true, y_pred):\n",
    "    y_true, y_pred = np.array(y_true), np.array(y_pred)\n",
    "    return(np.mean((np.square(y_true - y_pred)))/(np.sqrt(np.mean(np.square(y_true)))+np.sqrt(np.mean(np.square(y_pred)))))"
   ]
  },
  {
   "cell_type": "markdown",
   "metadata": {},
   "source": [
    "## Model Compile"
   ]
  },
  {
   "cell_type": "code",
   "execution_count": 28,
   "metadata": {},
   "outputs": [],
   "source": [
    "optimizer = Adagrad(lr=1e-4)\n",
    "LSTM_model.compile(loss=loss_softmax_cross_entropy_warmup, optimizer=optimizer)"
   ]
  },
  {
   "cell_type": "code",
   "execution_count": 29,
   "metadata": {},
   "outputs": [
    {
     "name": "stdout",
     "output_type": "stream",
     "text": [
      "_________________________________________________________________\n",
      "Layer (type)                 Output Shape              Param #   \n",
      "=================================================================\n",
      "lstm (LSTM)                  (None, None, 220)         198880    \n",
      "_________________________________________________________________\n",
      "dense (Dense)                (None, None, 3)           663       \n",
      "=================================================================\n",
      "Total params: 199,543\n",
      "Trainable params: 199,543\n",
      "Non-trainable params: 0\n",
      "_________________________________________________________________\n"
     ]
    }
   ],
   "source": [
    "LSTM_model.summary()"
   ]
  },
  {
   "cell_type": "code",
   "execution_count": null,
   "metadata": {},
   "outputs": [],
   "source": [
    "from tensorflow.python.keras.utils import plot_model\n",
    "#from tensorflow.python.keras.utils.vis_utils import plot_model\n",
    "plot_model(LSTM_model, to_file='LSTM_demo.png', show_shapes=True)\n",
    "\n",
    "#from IPython.display import SVG\n",
    "#from tensorflow.python.keras.utils.vis_utils import model_to_dot\n",
    "\n",
    "#SVG(model_to_dot(LSTM_model).create(prog='dot', format='svg'))"
   ]
  },
  {
   "cell_type": "markdown",
   "metadata": {},
   "source": [
    "### Callback functions for TensorBoard"
   ]
  },
  {
   "cell_type": "code",
   "execution_count": 30,
   "metadata": {},
   "outputs": [],
   "source": [
    "path_checkpoint = '24_checkpoint.keras'\n",
    "## Recording checkpoints\n",
    "callback_checkpoint = ModelCheckpoint(filepath=path_checkpoint, monitor='val_loss', verbose=1, save_weights_only=True, save_best_only=True)\n",
    "## If performance in Validation set gets worse, then stop training\n",
    "callback_early_stopping = EarlyStopping(monitor='val_loss',patience=5, verbose=1)\n",
    "## \n",
    "callback_tensorboard = TensorBoard(log_dir='./logs/SAE_test11',histogram_freq=0,write_graph=False)\n",
    "callback_reduce_lr = ReduceLROnPlateau(monitor='val_loss',factor=0.1,min_lr=1e-4,patience=0,verbose=1)\n",
    "callbacks = [callback_early_stopping, callback_checkpoint, callback_tensorboard, callback_reduce_lr]"
   ]
  },
  {
   "cell_type": "markdown",
   "metadata": {},
   "source": [
    "## Train the model"
   ]
  },
  {
   "cell_type": "code",
   "execution_count": 31,
   "metadata": {},
   "outputs": [
    {
     "name": "stdout",
     "output_type": "stream",
     "text": [
      "Epoch 1/50\n",
      " 99/100 [============================>.] - ETA: 0s - loss: 1.0899\n",
      "Epoch 00001: val_loss improved from inf to 1.07175, saving model to 24_checkpoint.keras\n",
      "100/100 [==============================] - 18s 180ms/step - loss: 1.0899 - val_loss: 1.0718\n",
      "Epoch 2/50\n",
      " 99/100 [============================>.] - ETA: 0s - loss: 1.0734\n",
      "Epoch 00002: val_loss improved from 1.07175 to 1.04026, saving model to 24_checkpoint.keras\n",
      "100/100 [==============================] - 17s 167ms/step - loss: 1.0732 - val_loss: 1.0403\n",
      "Epoch 3/50\n",
      " 99/100 [============================>.] - ETA: 0s - loss: 1.0405\n",
      "Epoch 00003: val_loss improved from 1.04026 to 0.89593, saving model to 24_checkpoint.keras\n",
      "100/100 [==============================] - 17s 166ms/step - loss: 1.0396 - val_loss: 0.8959\n",
      "Epoch 4/50\n",
      " 99/100 [============================>.] - ETA: 0s - loss: 0.8869\n",
      "Epoch 00004: val_loss improved from 0.89593 to 0.87513, saving model to 24_checkpoint.keras\n",
      "100/100 [==============================] - 17s 166ms/step - loss: 0.8868 - val_loss: 0.8751\n",
      "Epoch 5/50\n",
      " 99/100 [============================>.] - ETA: 0s - loss: 0.8691\n",
      "Epoch 00005: val_loss improved from 0.87513 to 0.87316, saving model to 24_checkpoint.keras\n",
      "100/100 [==============================] - 17s 166ms/step - loss: 0.8691 - val_loss: 0.8732\n",
      "Epoch 6/50\n",
      " 99/100 [============================>.] - ETA: 0s - loss: 0.8663\n",
      "Epoch 00006: val_loss improved from 0.87316 to 0.87221, saving model to 24_checkpoint.keras\n",
      "100/100 [==============================] - 17s 172ms/step - loss: 0.8663 - val_loss: 0.8722\n",
      "Epoch 7/50\n",
      " 99/100 [============================>.] - ETA: 0s - loss: 0.8652\n",
      "Epoch 00007: val_loss improved from 0.87221 to 0.87162, saving model to 24_checkpoint.keras\n",
      "100/100 [==============================] - 17s 173ms/step - loss: 0.8652 - val_loss: 0.8716\n",
      "Epoch 8/50\n",
      " 99/100 [============================>.] - ETA: 0s - loss: 0.8645\n",
      "Epoch 00008: val_loss improved from 0.87162 to 0.87121, saving model to 24_checkpoint.keras\n",
      "100/100 [==============================] - 17s 172ms/step - loss: 0.8645 - val_loss: 0.8712\n",
      "Epoch 9/50\n",
      " 99/100 [============================>.] - ETA: 0s - loss: 0.8641\n",
      "Epoch 00009: val_loss improved from 0.87121 to 0.87090, saving model to 24_checkpoint.keras\n",
      "100/100 [==============================] - 17s 172ms/step - loss: 0.8641 - val_loss: 0.8709\n",
      "Epoch 10/50\n",
      " 99/100 [============================>.] - ETA: 0s - loss: 0.8639\n",
      "Epoch 00010: val_loss improved from 0.87090 to 0.87066, saving model to 24_checkpoint.keras\n",
      "100/100 [==============================] - 17s 172ms/step - loss: 0.8639 - val_loss: 0.8707\n",
      "Epoch 11/50\n",
      " 99/100 [============================>.] - ETA: 0s - loss: 0.8636\n",
      "Epoch 00011: val_loss improved from 0.87066 to 0.87047, saving model to 24_checkpoint.keras\n",
      "100/100 [==============================] - 17s 172ms/step - loss: 0.8636 - val_loss: 0.8705\n",
      "Epoch 12/50\n",
      " 99/100 [============================>.] - ETA: 0s - loss: 0.8634\n",
      "Epoch 00012: val_loss improved from 0.87047 to 0.87033, saving model to 24_checkpoint.keras\n",
      "100/100 [==============================] - 17s 172ms/step - loss: 0.8634 - val_loss: 0.8703\n",
      "Epoch 13/50\n",
      " 99/100 [============================>.] - ETA: 0s - loss: 0.8633\n",
      "Epoch 00013: val_loss improved from 0.87033 to 0.87020, saving model to 24_checkpoint.keras\n",
      "100/100 [==============================] - 17s 172ms/step - loss: 0.8633 - val_loss: 0.8702\n",
      "Epoch 14/50\n",
      " 99/100 [============================>.] - ETA: 0s - loss: 0.8632\n",
      "Epoch 00014: val_loss improved from 0.87020 to 0.87010, saving model to 24_checkpoint.keras\n",
      "100/100 [==============================] - 17s 172ms/step - loss: 0.8632 - val_loss: 0.8701\n",
      "Epoch 15/50\n",
      " 99/100 [============================>.] - ETA: 0s - loss: 0.8631\n",
      "Epoch 00015: val_loss improved from 0.87010 to 0.87001, saving model to 24_checkpoint.keras\n",
      "100/100 [==============================] - 17s 172ms/step - loss: 0.8631 - val_loss: 0.8700\n",
      "Epoch 16/50\n",
      " 99/100 [============================>.] - ETA: 0s - loss: 0.8630\n",
      "Epoch 00016: val_loss improved from 0.87001 to 0.86993, saving model to 24_checkpoint.keras\n",
      "100/100 [==============================] - 17s 172ms/step - loss: 0.8630 - val_loss: 0.8699\n",
      "Epoch 17/50\n",
      " 99/100 [============================>.] - ETA: 0s - loss: 0.8629\n",
      "Epoch 00017: val_loss improved from 0.86993 to 0.86986, saving model to 24_checkpoint.keras\n",
      "100/100 [==============================] - 17s 172ms/step - loss: 0.8629 - val_loss: 0.8699\n",
      "Epoch 18/50\n",
      " 99/100 [============================>.] - ETA: 0s - loss: 0.8629\n",
      "Epoch 00018: val_loss improved from 0.86986 to 0.86980, saving model to 24_checkpoint.keras\n",
      "100/100 [==============================] - 17s 171ms/step - loss: 0.8629 - val_loss: 0.8698\n",
      "Epoch 19/50\n",
      " 99/100 [============================>.] - ETA: 0s - loss: 0.8628\n",
      "Epoch 00019: val_loss improved from 0.86980 to 0.86974, saving model to 24_checkpoint.keras\n",
      "100/100 [==============================] - 17s 172ms/step - loss: 0.8628 - val_loss: 0.8697\n",
      "Epoch 20/50\n",
      " 99/100 [============================>.] - ETA: 0s - loss: 0.8628\n",
      "Epoch 00020: val_loss improved from 0.86974 to 0.86968, saving model to 24_checkpoint.keras\n",
      "100/100 [==============================] - 17s 171ms/step - loss: 0.8628 - val_loss: 0.8697\n",
      "Epoch 21/50\n",
      " 99/100 [============================>.] - ETA: 0s - loss: 0.8627\n",
      "Epoch 00021: val_loss improved from 0.86968 to 0.86964, saving model to 24_checkpoint.keras\n",
      "100/100 [==============================] - 17s 172ms/step - loss: 0.8627 - val_loss: 0.8696\n",
      "Epoch 22/50\n",
      " 99/100 [============================>.] - ETA: 0s - loss: 0.8627\n",
      "Epoch 00022: val_loss improved from 0.86964 to 0.86959, saving model to 24_checkpoint.keras\n",
      "100/100 [==============================] - 17s 168ms/step - loss: 0.8627 - val_loss: 0.8696\n",
      "Epoch 23/50\n",
      " 99/100 [============================>.] - ETA: 0s - loss: 0.8627\n",
      "Epoch 00023: val_loss improved from 0.86959 to 0.86955, saving model to 24_checkpoint.keras\n",
      "100/100 [==============================] - 17s 167ms/step - loss: 0.8627 - val_loss: 0.8696\n",
      "Epoch 24/50\n",
      " 99/100 [============================>.] - ETA: 0s - loss: 0.8627\n",
      "Epoch 00024: val_loss improved from 0.86955 to 0.86951, saving model to 24_checkpoint.keras\n",
      "100/100 [==============================] - 17s 166ms/step - loss: 0.8627 - val_loss: 0.8695\n",
      "Epoch 25/50\n",
      " 99/100 [============================>.] - ETA: 0s - loss: 0.8626\n",
      "Epoch 00025: val_loss improved from 0.86951 to 0.86948, saving model to 24_checkpoint.keras\n",
      "100/100 [==============================] - 17s 166ms/step - loss: 0.8626 - val_loss: 0.8695\n",
      "Epoch 26/50\n",
      " 99/100 [============================>.] - ETA: 0s - loss: 0.8626\n",
      "Epoch 00026: val_loss improved from 0.86948 to 0.86944, saving model to 24_checkpoint.keras\n",
      "100/100 [==============================] - 17s 166ms/step - loss: 0.8626 - val_loss: 0.8694\n",
      "Epoch 27/50\n",
      " 99/100 [============================>.] - ETA: 0s - loss: 0.8626\n",
      "Epoch 00027: val_loss improved from 0.86944 to 0.86941, saving model to 24_checkpoint.keras\n",
      "100/100 [==============================] - 17s 168ms/step - loss: 0.8626 - val_loss: 0.8694\n",
      "Epoch 28/50\n",
      " 99/100 [============================>.] - ETA: 0s - loss: 0.8625\n",
      "Epoch 00028: val_loss improved from 0.86941 to 0.86939, saving model to 24_checkpoint.keras\n",
      "100/100 [==============================] - 17s 166ms/step - loss: 0.8625 - val_loss: 0.8694\n",
      "Epoch 29/50\n",
      " 99/100 [============================>.] - ETA: 0s - loss: 0.8626\n",
      "Epoch 00029: val_loss improved from 0.86939 to 0.86936, saving model to 24_checkpoint.keras\n",
      "100/100 [==============================] - 16s 165ms/step - loss: 0.8626 - val_loss: 0.8694\n",
      "Epoch 30/50\n",
      " 99/100 [============================>.] - ETA: 0s - loss: 0.8625\n",
      "Epoch 00030: val_loss improved from 0.86936 to 0.86934, saving model to 24_checkpoint.keras\n",
      "100/100 [==============================] - 17s 169ms/step - loss: 0.8625 - val_loss: 0.8693\n",
      "Epoch 31/50\n",
      " 99/100 [============================>.] - ETA: 0s - loss: 0.8625\n",
      "Epoch 00031: val_loss improved from 0.86934 to 0.86932, saving model to 24_checkpoint.keras\n",
      "100/100 [==============================] - 17s 169ms/step - loss: 0.8625 - val_loss: 0.8693\n",
      "Epoch 32/50\n",
      " 99/100 [============================>.] - ETA: 0s - loss: 0.8625\n",
      "Epoch 00032: val_loss improved from 0.86932 to 0.86930, saving model to 24_checkpoint.keras\n",
      "100/100 [==============================] - 17s 169ms/step - loss: 0.8625 - val_loss: 0.8693\n"
     ]
    },
    {
     "name": "stdout",
     "output_type": "stream",
     "text": [
      "Epoch 33/50\n",
      " 99/100 [============================>.] - ETA: 0s - loss: 0.8624\n",
      "Epoch 00033: val_loss improved from 0.86930 to 0.86928, saving model to 24_checkpoint.keras\n",
      "100/100 [==============================] - 17s 170ms/step - loss: 0.8624 - val_loss: 0.8693\n",
      "Epoch 34/50\n",
      " 99/100 [============================>.] - ETA: 0s - loss: 0.8625\n",
      "Epoch 00034: val_loss improved from 0.86928 to 0.86926, saving model to 24_checkpoint.keras\n",
      "100/100 [==============================] - 17s 167ms/step - loss: 0.8625 - val_loss: 0.8693\n",
      "Epoch 35/50\n",
      " 99/100 [============================>.] - ETA: 0s - loss: 0.8624\n",
      "Epoch 00035: val_loss improved from 0.86926 to 0.86924, saving model to 24_checkpoint.keras\n",
      "100/100 [==============================] - 17s 168ms/step - loss: 0.8624 - val_loss: 0.8692\n",
      "Epoch 36/50\n",
      " 99/100 [============================>.] - ETA: 0s - loss: 0.8624\n",
      "Epoch 00036: val_loss improved from 0.86924 to 0.86922, saving model to 24_checkpoint.keras\n",
      "100/100 [==============================] - 17s 169ms/step - loss: 0.8624 - val_loss: 0.8692\n",
      "Epoch 37/50\n",
      " 99/100 [============================>.] - ETA: 0s - loss: 0.8624\n",
      "Epoch 00037: val_loss improved from 0.86922 to 0.86921, saving model to 24_checkpoint.keras\n",
      "100/100 [==============================] - 17s 172ms/step - loss: 0.8624 - val_loss: 0.8692\n",
      "Epoch 38/50\n",
      " 99/100 [============================>.] - ETA: 0s - loss: 0.8624\n",
      "Epoch 00038: val_loss improved from 0.86921 to 0.86919, saving model to 24_checkpoint.keras\n",
      "100/100 [==============================] - 17s 167ms/step - loss: 0.8624 - val_loss: 0.8692\n",
      "Epoch 39/50\n",
      " 99/100 [============================>.] - ETA: 0s - loss: 0.8624\n",
      "Epoch 00039: val_loss improved from 0.86919 to 0.86918, saving model to 24_checkpoint.keras\n",
      "100/100 [==============================] - 17s 166ms/step - loss: 0.8624 - val_loss: 0.8692\n",
      "Epoch 40/50\n",
      " 99/100 [============================>.] - ETA: 0s - loss: 0.8624\n",
      "Epoch 00040: val_loss improved from 0.86918 to 0.86916, saving model to 24_checkpoint.keras\n",
      "100/100 [==============================] - 17s 170ms/step - loss: 0.8624 - val_loss: 0.8692\n",
      "Epoch 41/50\n",
      " 99/100 [============================>.] - ETA: 0s - loss: 0.8623\n",
      "Epoch 00041: val_loss improved from 0.86916 to 0.86915, saving model to 24_checkpoint.keras\n",
      "100/100 [==============================] - 17s 167ms/step - loss: 0.8623 - val_loss: 0.8692\n",
      "Epoch 42/50\n",
      " 99/100 [============================>.] - ETA: 0s - loss: 0.8623\n",
      "Epoch 00042: val_loss improved from 0.86915 to 0.86914, saving model to 24_checkpoint.keras\n",
      "100/100 [==============================] - 17s 167ms/step - loss: 0.8623 - val_loss: 0.8691\n",
      "Epoch 43/50\n",
      " 99/100 [============================>.] - ETA: 0s - loss: 0.8624\n",
      "Epoch 00043: val_loss improved from 0.86914 to 0.86913, saving model to 24_checkpoint.keras\n",
      "100/100 [==============================] - 17s 168ms/step - loss: 0.8624 - val_loss: 0.8691\n",
      "Epoch 44/50\n",
      " 99/100 [============================>.] - ETA: 0s - loss: 0.8623\n",
      "Epoch 00044: val_loss improved from 0.86913 to 0.86912, saving model to 24_checkpoint.keras\n",
      "100/100 [==============================] - 17s 168ms/step - loss: 0.8623 - val_loss: 0.8691\n",
      "Epoch 45/50\n",
      " 99/100 [============================>.] - ETA: 0s - loss: 0.8623\n",
      "Epoch 00045: val_loss improved from 0.86912 to 0.86911, saving model to 24_checkpoint.keras\n",
      "100/100 [==============================] - 17s 169ms/step - loss: 0.8623 - val_loss: 0.8691\n",
      "Epoch 46/50\n",
      " 99/100 [============================>.] - ETA: 0s - loss: 0.8623\n",
      "Epoch 00046: val_loss improved from 0.86911 to 0.86909, saving model to 24_checkpoint.keras\n",
      "100/100 [==============================] - 17s 168ms/step - loss: 0.8623 - val_loss: 0.8691\n",
      "Epoch 47/50\n",
      " 99/100 [============================>.] - ETA: 0s - loss: 0.8623\n",
      "Epoch 00047: val_loss improved from 0.86909 to 0.86908, saving model to 24_checkpoint.keras\n",
      "100/100 [==============================] - 17s 166ms/step - loss: 0.8623 - val_loss: 0.8691\n",
      "Epoch 48/50\n",
      " 99/100 [============================>.] - ETA: 0s - loss: 0.8623\n",
      "Epoch 00048: val_loss improved from 0.86908 to 0.86908, saving model to 24_checkpoint.keras\n",
      "100/100 [==============================] - 17s 167ms/step - loss: 0.8623 - val_loss: 0.8691\n",
      "Epoch 49/50\n",
      " 99/100 [============================>.] - ETA: 0s - loss: 0.8623\n",
      "Epoch 00049: val_loss improved from 0.86908 to 0.86907, saving model to 24_checkpoint.keras\n",
      "100/100 [==============================] - 17s 166ms/step - loss: 0.8623 - val_loss: 0.8691\n",
      "Epoch 50/50\n",
      " 99/100 [============================>.] - ETA: 0s - loss: 0.8623\n",
      "Epoch 00050: val_loss improved from 0.86907 to 0.86906, saving model to 24_checkpoint.keras\n",
      "100/100 [==============================] - 17s 167ms/step - loss: 0.8623 - val_loss: 0.8691\n",
      "Wall time: 14min 6s\n"
     ]
    },
    {
     "data": {
      "text/plain": [
       "<tensorflow.python.keras.callbacks.History at 0x1fe45e06e80>"
      ]
     },
     "execution_count": 31,
     "metadata": {},
     "output_type": "execute_result"
    }
   ],
   "source": [
    "%%time\n",
    "LSTM_model.fit_generator(generator=generator, epochs=50, steps_per_epoch=100, validation_data=validation_data, callbacks=callbacks)"
   ]
  },
  {
   "cell_type": "markdown",
   "metadata": {},
   "source": [
    "### Read checkpoints when early-stopping occurs"
   ]
  },
  {
   "cell_type": "code",
   "execution_count": 32,
   "metadata": {},
   "outputs": [],
   "source": [
    "try:\n",
    "    LSTM_model.load_weights(path_checkpoint)\n",
    "except Exception as error:\n",
    "    print(\"Error trying to load checkpoint.\")\n",
    "    print(error)"
   ]
  },
  {
   "cell_type": "markdown",
   "metadata": {},
   "source": [
    "## Evaluation the model to the test set"
   ]
  },
  {
   "cell_type": "code",
   "execution_count": 33,
   "metadata": {},
   "outputs": [
    {
     "name": "stdout",
     "output_type": "stream",
     "text": [
      "\r",
      "1/1 [==============================] - 0s 68ms/step\n"
     ]
    }
   ],
   "source": [
    "result = LSTM_model.evaluate(x=np.expand_dims(x_test_scaled, axis=0),\n",
    "y=np.expand_dims(y_test_scaled, axis=0))"
   ]
  },
  {
   "cell_type": "code",
   "execution_count": 34,
   "metadata": {},
   "outputs": [
    {
     "name": "stdout",
     "output_type": "stream",
     "text": [
      "loss (test-set): 0.8690569996833801\n"
     ]
    }
   ],
   "source": [
    "print(\"loss (test-set):\", result)"
   ]
  },
  {
   "cell_type": "markdown",
   "metadata": {},
   "source": [
    "## Visualization of prediction and real values"
   ]
  },
  {
   "cell_type": "code",
   "execution_count": 115,
   "metadata": {},
   "outputs": [],
   "source": [
    "def plot_comparison(start_idx, length=100, train=True):\n",
    "    \"\"\"\n",
    "    Plot the predicted and true output-signals.\n",
    "    :param start_idx: Start-index for the time-series.\n",
    "    :param length: Sequence-length to process and plot.\n",
    "    :param train: Boolean whether to use training- or test-set.\n",
    "    \"\"\"\n",
    "    if train:\n",
    "        # Use training-data.\n",
    "        x = x_train_scaled\n",
    "        y_true = y_train\n",
    "    else:\n",
    "        # Use test-data.\n",
    "        x = x_test_scaled\n",
    "        y_true = y_test\n",
    "    \n",
    "    print(\"y_train : \", y_train.shape)\n",
    "    \n",
    "    # End-index for the sequences.\n",
    "    end_idx = start_idx + length\n",
    "    # Select the sequences from the given start-index and\n",
    "    # of the given length.\n",
    "    x = x[start_idx:end_idx]\n",
    "    y_true = y_true[start_idx:end_idx]\n",
    "    # Input-signals for the model.\n",
    "    print(\"y_true : \", y_true.shape)\n",
    "    print(\"y_true : \", y_true)\n",
    "    print(\"x : \", x.shape)\n",
    "    x = np.expand_dims(x, axis=0)\n",
    "    print(\"x : \" , x.shape)\n",
    "    # Use the model to predict the output-signals.\n",
    "    y_pred = LSTM_model.predict(x)    \n",
    "    print(\"y_pred : \", y_pred.shape)\n",
    "    print(type(y_pred[0]))\n",
    "    \n",
    "    new_y_pred = np.ndarray([100, 3])\n",
    "    print(new_y_pred.shape)\n",
    "\n",
    "    \n",
    "    # The output of the model is between 0 and 1.\n",
    "    # Do an inverse map to get it back to the scale\n",
    "    # of the original data-set.\n",
    "    y_pred_rescaled = y_scaler.inverse_transform(y_pred[0])\n",
    "    # For each output-signal.\n",
    "    for signal in range(3):\n",
    "        # Get the output-signal predicted by the model.\n",
    "        signal_pred = y_pred_rescaled[:, signal]\n",
    "        # Get the true output-signal from the data-set.        \n",
    "        signal_true = y_true[:, signal]\n",
    "        \n",
    "\n",
    "        # Make the plotting-canvas bigger.\n",
    "        plt.figure(figsize=(15,5))\n",
    "        # Plot and compare the two signals.\n",
    "        plt.plot(signal_true, label='true')\n",
    "        plt.plot(signal_pred, label='pred')\n",
    "        # Plot grey box for warmup-period.\n",
    "        p = plt.axvspan(0, warmup_steps, facecolor='black', alpha=0.15)\n",
    "        # Plot labels etc.\n",
    "        #plt.ylabel(target_names[signal])\n",
    "        plt.legend()\n",
    "        plt.show()"
   ]
  },
  {
   "cell_type": "code",
   "execution_count": 116,
   "metadata": {},
   "outputs": [
    {
     "name": "stdout",
     "output_type": "stream",
     "text": [
      "y_train :  (300, 3)\n",
      "y_true :  (100, 3)\n",
      "y_true :  [[0. 0. 1.]\n",
      " [0. 1. 0.]\n",
      " [0. 1. 0.]\n",
      " [0. 0. 1.]\n",
      " [0. 1. 0.]\n",
      " [0. 1. 0.]\n",
      " [0. 1. 0.]\n",
      " [0. 0. 1.]\n",
      " [0. 0. 1.]\n",
      " [0. 1. 0.]\n",
      " [1. 0. 0.]\n",
      " [1. 0. 0.]\n",
      " [0. 1. 0.]\n",
      " [0. 1. 0.]\n",
      " [0. 1. 0.]\n",
      " [0. 1. 0.]\n",
      " [0. 1. 0.]\n",
      " [0. 0. 1.]\n",
      " [0. 1. 0.]\n",
      " [1. 0. 0.]\n",
      " [0. 1. 0.]\n",
      " [0. 1. 0.]\n",
      " [0. 1. 0.]\n",
      " [0. 0. 1.]\n",
      " [0. 1. 0.]\n",
      " [0. 1. 0.]\n",
      " [0. 1. 0.]\n",
      " [0. 1. 0.]\n",
      " [0. 1. 0.]\n",
      " [0. 1. 0.]\n",
      " [0. 0. 1.]\n",
      " [0. 1. 0.]\n",
      " [0. 1. 0.]\n",
      " [0. 1. 0.]\n",
      " [0. 1. 0.]\n",
      " [0. 1. 0.]\n",
      " [0. 1. 0.]\n",
      " [0. 0. 1.]\n",
      " [0. 1. 0.]\n",
      " [0. 1. 0.]\n",
      " [0. 0. 1.]\n",
      " [0. 1. 0.]\n",
      " [0. 1. 0.]\n",
      " [0. 1. 0.]\n",
      " [0. 1. 0.]\n",
      " [0. 1. 0.]\n",
      " [0. 1. 0.]\n",
      " [0. 1. 0.]\n",
      " [0. 1. 0.]\n",
      " [0. 1. 0.]\n",
      " [0. 0. 1.]\n",
      " [0. 0. 1.]\n",
      " [0. 0. 1.]\n",
      " [0. 1. 0.]\n",
      " [0. 1. 0.]\n",
      " [0. 0. 1.]\n",
      " [0. 1. 0.]\n",
      " [0. 1. 0.]\n",
      " [0. 1. 0.]\n",
      " [0. 1. 0.]\n",
      " [0. 0. 1.]\n",
      " [0. 1. 0.]\n",
      " [0. 1. 0.]\n",
      " [0. 0. 1.]\n",
      " [0. 1. 0.]\n",
      " [0. 1. 0.]\n",
      " [0. 1. 0.]\n",
      " [0. 1. 0.]\n",
      " [0. 0. 1.]\n",
      " [0. 1. 0.]\n",
      " [0. 0. 1.]\n",
      " [0. 0. 1.]\n",
      " [0. 1. 0.]\n",
      " [0. 1. 0.]\n",
      " [0. 0. 1.]\n",
      " [0. 1. 0.]\n",
      " [0. 1. 0.]\n",
      " [0. 0. 1.]\n",
      " [0. 1. 0.]\n",
      " [0. 0. 1.]\n",
      " [0. 0. 1.]\n",
      " [0. 0. 1.]\n",
      " [0. 0. 1.]\n",
      " [0. 1. 0.]\n",
      " [0. 0. 1.]\n",
      " [0. 0. 1.]\n",
      " [0. 0. 1.]\n",
      " [0. 0. 1.]\n",
      " [0. 1. 0.]\n",
      " [0. 1. 0.]\n",
      " [0. 1. 0.]\n",
      " [0. 1. 0.]\n",
      " [0. 0. 1.]\n",
      " [0. 0. 1.]\n",
      " [0. 1. 0.]\n",
      " [0. 0. 1.]\n",
      " [0. 0. 1.]\n",
      " [0. 0. 1.]\n",
      " [0. 1. 0.]\n",
      " [0. 0. 1.]]\n",
      "x :  (100, 5)\n",
      "x :  (1, 100, 5)\n",
      "y_pred :  (1, 100, 3)\n",
      "<class 'numpy.ndarray'>\n",
      "(100, 3)\n"
     ]
    },
    {
     "data": {
      "image/png": "[encoded data removed]",
      "text/plain": [
       "<Figure size 1080x360 with 1 Axes>"
      ]
     },
     "metadata": {},
     "output_type": "display_data"
    },
    {
     "data": {
      "image/png": "[encoded data removed]",
      "text/plain": [
       "<Figure size 1080x360 with 1 Axes>"
      ]
     },
     "metadata": {},
     "output_type": "display_data"
    },
    {
     "data": {
      "image/png": "[encoded data removed]",
      "text/plain": [
       "<Figure size 1080x360 with 1 Axes>"
      ]
     },
     "metadata": {},
     "output_type": "display_data"
    }
   ],
   "source": [
    "plot_comparison(start_idx=10, length=100, train=True)"
   ]
  },
  {
   "cell_type": "code",
   "execution_count": 36,
   "metadata": {
    "scrolled": true
   },
   "outputs": [
    {
     "data": {
      "image/png": "[encoded data removed]",
      "text/plain": [
       "<Figure size 1080x360 with 1 Axes>"
      ]
     },
     "metadata": {},
     "output_type": "display_data"
    }
   ],
   "source": [
    "plot_comparison(start_idx=10, length=300, train=True)"
   ]
  },
  {
   "cell_type": "code",
   "execution_count": null,
   "metadata": {},
   "outputs": [],
   "source": [
    "plot_comparison(start_idx=10, length=300, train=False)"
   ]
  },
  {
   "cell_type": "markdown",
   "metadata": {},
   "source": [
    "plot_comparison(start_idx=10, length=250, train=False)"
   ]
  }
 ],
 "metadata": {
  "kernelspec": {
   "display_name": "Python 3",
   "language": "python",
   "name": "python3"
  },
  "language_info": {
   "codemirror_mode": {
    "name": "ipython",
    "version": 3
   },
   "file_extension": ".py",
   "mimetype": "text/x-python",
   "name": "python",
   "nbconvert_exporter": "python",
   "pygments_lexer": "ipython3",
   "version": "3.5.2"
  }
 },
 "nbformat": 4,
 "nbformat_minor": 2
}
