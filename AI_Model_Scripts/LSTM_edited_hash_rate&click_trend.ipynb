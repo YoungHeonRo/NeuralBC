{
 "cells": [
  {
   "cell_type": "code",
   "execution_count": 111,
   "metadata": {
    "collapsed": false
   },
   "outputs": [],
   "source": [
    "import matplotlib.pyplot as plt\n",
    "import tensorflow as tf\n",
    "import numpy as np\n",
    "import pandas as pd\n",
    "import os\n",
    "from sklearn.preprocessing import MinMaxScaler\n",
    "%matplotlib inline"
   ]
  },
  {
   "cell_type": "code",
   "execution_count": 112,
   "metadata": {
    "collapsed": false
   },
   "outputs": [
    {
     "name": "stdout",
     "output_type": "stream",
     "text": [
      "DB connection complete!!\n"
     ]
    }
   ],
   "source": [
    "from pymongo import MongoClient\n",
    "from datetime import datetime\n",
    "client = MongoClient('52.79.241.214', 27017)\n",
    "print(\"DB connection complete!!\")\n",
    "DB_Coin = client[\"Coin-USD\"] "
   ]
  },
  {
   "cell_type": "code",
   "execution_count": 453,
   "metadata": {
    "collapsed": false
   },
   "outputs": [
    {
     "name": "stdout",
     "output_type": "stream",
     "text": [
      "20180807\n",
      "20170324\n"
     ]
    }
   ],
   "source": [
    "Collection = DB_Coin['BTC']\n",
    "import time\n",
    "DB_schema = []\n",
    "i = 0\n",
    "\n",
    "for collect in Collection.find():\n",
    "    #if i==2902:\n",
    "    if i==502:\n",
    "        continue\n",
    "    temp_record = {}\n",
    "    temp_record['open'] = collect['Open']\n",
    "    temp_record['close'] = collect['Price']\n",
    "    temp_record['high'] = collect['High']\n",
    "    temp_record['low'] = collect['Low']\n",
    "    temp_record['volume'] = collect['Volume']    \n",
    "    temp_record['Date'] = collect['Date']\n",
    "    DB_schema.append(temp_record)\n",
    "    del temp_record\n",
    "    i = i+1\n",
    "first_date=DB_schema[0]['Date']\n",
    "print(first_date)\n",
    "first_date=str(first_date)\n",
    "last_date=DB_schema[-1]['Date']\n",
    "print(last_date)\n",
    "last_date=str(last_date)"
   ]
  },
  {
   "cell_type": "code",
   "execution_count": 454,
   "metadata": {
    "collapsed": false
   },
   "outputs": [],
   "source": [
    "import pandas as pd\n",
    "hash_rate=pd.read_csv('D:/export-NetworkHash.csv',header=None)\n",
    "hash_rate=hash_rate.shift(-1)\n",
    "hash_rate_from=hash_rate[(hash_rate[0]=='20170324')]\n",
    "hash_rate_to=hash_rate[(hash_rate[0]=='20180807')]\n",
    "hash_rate_from_index=hash_rate_from.index[0]\n",
    "hash_rate_to_index=hash_rate_to.index[0]\n",
    "hash_rate=hash_rate.iloc[hash_rate_from_index:hash_rate_to_index+1,0:2]\n",
    "hash_rate=hash_rate[1]\n",
    "hash_rate=hash_rate.sort_index(ascending=False)      ## according to the order of from 20180808 to 20170324\n",
    "hash_rate=list(hash_rate)"
   ]
  },
  {
   "cell_type": "code",
   "execution_count": 455,
   "metadata": {
    "collapsed": false
   },
   "outputs": [],
   "source": [
    "import pandas as pd\n",
    "page_views=pd.read_csv('D:/pageviews.csv',header=None)\n",
    "page_views=page_views.shift(-1)\n",
    "page_views_from=page_views[(page_views[0]=='20170324')]\n",
    "page_views_to=page_views[(page_views[0]=='20180807')]\n",
    "page_views_from_index=page_views_from.index[0]\n",
    "page_views_to_index=page_views_to.index[0]\n",
    "page_views=page_views.iloc[page_views_from_index:page_views_to_index+1,0:2]\n",
    "page_views=page_views[1]\n",
    "page_views=page_views.sort_index(ascending=False)      ## according to the order from 20180808 to 20170324\n",
    "page_views=list(page_views)"
   ]
  },
  {
   "cell_type": "markdown",
   "metadata": {},
   "source": [
    "### issue"
   ]
  },
  {
   "cell_type": "code",
   "execution_count": 456,
   "metadata": {
    "collapsed": false,
    "scrolled": true
   },
   "outputs": [],
   "source": [
    "%matplotlib inline\n",
    "import pandas as pd\n",
    "DF = pd.DataFrame(DB_schema)\n",
    "DF.index = DF['Date']\n",
    "DF.loc[:,'page_views']=page_views\n",
    "DF.loc[:,'hash_rate']=hash_rate"
   ]
  },
  {
   "cell_type": "code",
   "execution_count": 146,
   "metadata": {
    "collapsed": false
   },
   "outputs": [
    {
     "data": {
      "text/plain": [
       "(502, 8)"
      ]
     },
     "execution_count": 146,
     "metadata": {},
     "output_type": "execute_result"
    }
   ],
   "source": [
    "DF.values.shape"
   ]
  },
  {
   "cell_type": "code",
   "execution_count": 457,
   "metadata": {
    "collapsed": true
   },
   "outputs": [],
   "source": [
    "target_names = ['close']\n",
    "shift_hours = 2\n",
    "DF_targets = DF[target_names].shift(-shift_hours)"
   ]
  },
  {
   "cell_type": "code",
   "execution_count": 458,
   "metadata": {
    "collapsed": false
   },
   "outputs": [
    {
     "data": {
      "text/html": [
       "<div>\n",
       "<table border=\"1\" class=\"dataframe\">\n",
       "  <thead>\n",
       "    <tr style=\"text-align: right;\">\n",
       "      <th></th>\n",
       "      <th>close</th>\n",
       "      <th>high</th>\n",
       "      <th>low</th>\n",
       "      <th>open</th>\n",
       "      <th>volume</th>\n",
       "      <th>page_views</th>\n",
       "      <th>hash_rate</th>\n",
       "    </tr>\n",
       "    <tr>\n",
       "      <th>Date</th>\n",
       "      <th></th>\n",
       "      <th></th>\n",
       "      <th></th>\n",
       "      <th></th>\n",
       "      <th></th>\n",
       "      <th></th>\n",
       "      <th></th>\n",
       "    </tr>\n",
       "  </thead>\n",
       "  <tbody>\n",
       "    <tr>\n",
       "      <th>20180807</th>\n",
       "      <td>6952.3</td>\n",
       "      <td>6991.6</td>\n",
       "      <td>6914.8</td>\n",
       "      <td>6943.6</td>\n",
       "      <td>157830.0</td>\n",
       "      <td>16708</td>\n",
       "      <td>291954.5748</td>\n",
       "    </tr>\n",
       "    <tr>\n",
       "      <th>20180806</th>\n",
       "      <td>6943.6</td>\n",
       "      <td>7143.6</td>\n",
       "      <td>6852.5</td>\n",
       "      <td>7027.8</td>\n",
       "      <td>168870.0</td>\n",
       "      <td>16035</td>\n",
       "      <td>293327.109</td>\n",
       "    </tr>\n",
       "    <tr>\n",
       "      <th>20180805</th>\n",
       "      <td>7027.1</td>\n",
       "      <td>7087.6</td>\n",
       "      <td>6887.9</td>\n",
       "      <td>7014.0</td>\n",
       "      <td>177640.0</td>\n",
       "      <td>11327</td>\n",
       "      <td>293048.5066</td>\n",
       "    </tr>\n",
       "    <tr>\n",
       "      <th>20180804</th>\n",
       "      <td>7014.3</td>\n",
       "      <td>7484.2</td>\n",
       "      <td>6949.7</td>\n",
       "      <td>7418.9</td>\n",
       "      <td>222570.0</td>\n",
       "      <td>11066</td>\n",
       "      <td>292889.4426</td>\n",
       "    </tr>\n",
       "    <tr>\n",
       "      <th>20180803</th>\n",
       "      <td>7419.0</td>\n",
       "      <td>7535.6</td>\n",
       "      <td>7293.5</td>\n",
       "      <td>7535.6</td>\n",
       "      <td>226460.0</td>\n",
       "      <td>14465</td>\n",
       "      <td>285672.7276</td>\n",
       "    </tr>\n",
       "  </tbody>\n",
       "</table>\n",
       "</div>"
      ],
      "text/plain": [
       "           close    high     low    open    volume page_views    hash_rate\n",
       "Date                                                                      \n",
       "20180807  6952.3  6991.6  6914.8  6943.6  157830.0      16708  291954.5748\n",
       "20180806  6943.6  7143.6  6852.5  7027.8  168870.0      16035   293327.109\n",
       "20180805  7027.1  7087.6  6887.9  7014.0  177640.0      11327  293048.5066\n",
       "20180804  7014.3  7484.2  6949.7  7418.9  222570.0      11066  292889.4426\n",
       "20180803  7419.0  7535.6  7293.5  7535.6  226460.0      14465  285672.7276"
      ]
     },
     "execution_count": 458,
     "metadata": {},
     "output_type": "execute_result"
    }
   ],
   "source": [
    "DF = DF[['close', 'high', 'low', 'open', 'volume','page_views','hash_rate']]\n",
    "DF.head()"
   ]
  },
  {
   "cell_type": "code",
   "execution_count": 459,
   "metadata": {
    "collapsed": false
   },
   "outputs": [
    {
     "data": {
      "text/html": [
       "<div>\n",
       "<table border=\"1\" class=\"dataframe\">\n",
       "  <thead>\n",
       "    <tr style=\"text-align: right;\">\n",
       "      <th></th>\n",
       "      <th>close</th>\n",
       "    </tr>\n",
       "    <tr>\n",
       "      <th>Date</th>\n",
       "      <th></th>\n",
       "    </tr>\n",
       "  </thead>\n",
       "  <tbody>\n",
       "    <tr>\n",
       "      <th>20180807</th>\n",
       "      <td>7027.1</td>\n",
       "    </tr>\n",
       "    <tr>\n",
       "      <th>20180806</th>\n",
       "      <td>7014.3</td>\n",
       "    </tr>\n",
       "    <tr>\n",
       "      <th>20180805</th>\n",
       "      <td>7419.0</td>\n",
       "    </tr>\n",
       "    <tr>\n",
       "      <th>20180804</th>\n",
       "      <td>7535.6</td>\n",
       "    </tr>\n",
       "    <tr>\n",
       "      <th>20180803</th>\n",
       "      <td>7606.4</td>\n",
       "    </tr>\n",
       "  </tbody>\n",
       "</table>\n",
       "</div>"
      ],
      "text/plain": [
       "           close\n",
       "Date            \n",
       "20180807  7027.1\n",
       "20180806  7014.3\n",
       "20180805  7419.0\n",
       "20180804  7535.6\n",
       "20180803  7606.4"
      ]
     },
     "execution_count": 459,
     "metadata": {},
     "output_type": "execute_result"
    }
   ],
   "source": [
    "DF_targets.head()"
   ]
  },
  {
   "cell_type": "code",
   "execution_count": 460,
   "metadata": {
    "collapsed": false
   },
   "outputs": [
    {
     "name": "stdout",
     "output_type": "stream",
     "text": [
      "[[1. 0. 0.]\n",
      " [0. 1. 0.]\n",
      " [1. 0. 0.]\n",
      " ...\n",
      " [0. 0. 1.]\n",
      " [1. 0. 0.]\n",
      " [1. 0. 0.]]\n"
     ]
    }
   ],
   "source": [
    "Diff_y_data = np.diff(DF_targets.values, axis=0)\n",
    "y_data=DF_targets.values[:-1]\n",
    "Diff_y_data=Diff_y_data/y_data\n",
    "Movement = []\n",
    "\n",
    "Grad=0.02   # 기준점\n",
    "for i in range(Diff_y_data.shape[0]):\n",
    "    if Diff_y_data[i][0] > Grad:\n",
    "        Movement.append(1)   # 상승\n",
    "    elif Diff_y_data[i][0] < -Grad:\n",
    "        Movement.append(-1)  # 하락\n",
    "    else:\n",
    "        Movement.append(0)   # 보합\n",
    "        \n",
    "del Diff_y_data\n",
    "y_data = np.array(Movement)  # list to np.array\n",
    "\n",
    "from tensorflow.python.keras.utils import to_categorical\n",
    "y_true_movement = to_categorical(y_data, num_classes=3) # one-hot encoding으로 변환한다\n",
    "\n",
    "print(y_true_movement)"
   ]
  },
  {
   "cell_type": "code",
   "execution_count": 461,
   "metadata": {
    "collapsed": false
   },
   "outputs": [
    {
     "name": "stdout",
     "output_type": "stream",
     "text": [
      "<class 'numpy.ndarray'>\n",
      "Shape:  (500, 7)\n"
     ]
    }
   ],
   "source": [
    "x_data = DF.values[0:-shift_hours]\n",
    "print(type(x_data))\n",
    "print(\"Shape: \", x_data.shape)"
   ]
  },
  {
   "cell_type": "code",
   "execution_count": 462,
   "metadata": {
    "collapsed": false
   },
   "outputs": [
    {
     "name": "stdout",
     "output_type": "stream",
     "text": [
      "<class 'numpy.ndarray'>\n",
      "Shape:  (500, 1)\n"
     ]
    }
   ],
   "source": [
    "y_data = DF_targets.values[:-shift_hours]\n",
    "print(type(y_data))\n",
    "print(\"Shape: \", y_data.shape)"
   ]
  },
  {
   "cell_type": "code",
   "execution_count": 463,
   "metadata": {
    "collapsed": true
   },
   "outputs": [],
   "source": [
    "num_data = len(x_data)\n",
    "train_split = 0.6\n",
    "num_train = int(train_split * num_data)\n",
    "num_test = num_data - num_train"
   ]
  },
  {
   "cell_type": "code",
   "execution_count": 464,
   "metadata": {
    "collapsed": false
   },
   "outputs": [
    {
     "name": "stdout",
     "output_type": "stream",
     "text": [
      "300\n",
      "200\n"
     ]
    }
   ],
   "source": [
    "print(num_train)\n",
    "print(num_test)"
   ]
  },
  {
   "cell_type": "code",
   "execution_count": 465,
   "metadata": {
    "collapsed": false
   },
   "outputs": [],
   "source": [
    "x_train = x_data[0:num_train]\n",
    "x_test = x_data[num_train:]\n",
    "y_train = y_data[0:num_train]\n",
    "y_test = y_data[num_train:]\n",
    "num_x_signals = x_data.shape[1]\n",
    "num_y_signals = y_data.shape[1]"
   ]
  },
  {
   "cell_type": "code",
   "execution_count": 466,
   "metadata": {
    "collapsed": false
   },
   "outputs": [
    {
     "name": "stdout",
     "output_type": "stream",
     "text": [
      "Min: 0.0\n",
      "Max: 1.0\n"
     ]
    },
    {
     "name": "stderr",
     "output_type": "stream",
     "text": [
      "D:\\Anaconda3\\lib\\site-packages\\sklearn\\utils\\validation.py:420: DataConversionWarning: Data with input dtype object was converted to float64 by MinMaxScaler.\n",
      "  warnings.warn(msg, DataConversionWarning)\n"
     ]
    }
   ],
   "source": [
    "x_scaler = MinMaxScaler()\n",
    "x_train_scaled = x_scaler.fit_transform(x_train)  # 데이터의 크기를 0에서 1사이로 조정\n",
    "print(\"Min:\", np.min(x_train_scaled))\n",
    "print(\"Max:\", np.max(x_train_scaled))"
   ]
  },
  {
   "cell_type": "code",
   "execution_count": 467,
   "metadata": {
    "collapsed": false
   },
   "outputs": [],
   "source": [
    "x_test_scaled = x_scaler.transform(x_test)\n",
    "y_scaler = MinMaxScaler()\n",
    "y_train_scaled = y_scaler.fit_transform(y_train)\n",
    "y_test_scaled = y_scaler.transform(y_test)"
   ]
  },
  {
   "cell_type": "markdown",
   "metadata": {},
   "source": [
    "## Adjust the input data with Autoencoder Function"
   ]
  },
  {
   "cell_type": "code",
   "execution_count": 468,
   "metadata": {
    "collapsed": false
   },
   "outputs": [
    {
     "name": "stdout",
     "output_type": "stream",
     "text": [
      "[[0.10922956 0.10797894 0.15067559 ... 0.12547232 0.02537754 0.99270671]\n",
      " [0.10860424 0.11850672 0.14620512 ... 0.13871529 0.02337765 1.        ]\n",
      " [0.11460587 0.11462806 0.14874533 ... 0.14923529 0.00938731 0.99851958]\n",
      " ...\n",
      " [0.02818248 0.0281895  0.05409769 ... 0.02757752 0.09704384 0.        ]\n",
      " [0.01471296 0.02910375 0.04140386 ... 0.19407425 0.13561236 0.02611085]\n",
      " [0.         0.         0.         ... 0.13277754 0.11045472 0.00166466]]\n",
      "Epoch 1/20\n"
     ]
    },
    {
     "name": "stderr",
     "output_type": "stream",
     "text": [
      "D:\\Anaconda3\\lib\\site-packages\\ipykernel\\__main__.py:44: UserWarning: The `nb_epoch` argument in `fit` has been renamed `epochs`.\n"
     ]
    },
    {
     "name": "stdout",
     "output_type": "stream",
     "text": [
      "300/300 [==============================] - 1s 5ms/step - loss: 0.0968\n",
      "Epoch 2/20\n",
      "300/300 [==============================] - 0s 53us/step - loss: 0.0961\n",
      "Epoch 3/20\n",
      "300/300 [==============================] - 0s 50us/step - loss: 0.0954\n",
      "Epoch 4/20\n",
      "300/300 [==============================] - 0s 47us/step - loss: 0.0947\n",
      "Epoch 5/20\n",
      "300/300 [==============================] - 0s 50us/step - loss: 0.0940\n",
      "Epoch 6/20\n",
      "300/300 [==============================] - 0s 47us/step - loss: 0.0933\n",
      "Epoch 7/20\n",
      "300/300 [==============================] - 0s 47us/step - loss: 0.0927\n",
      "Epoch 8/20\n",
      "300/300 [==============================] - 0s 50us/step - loss: 0.0920\n",
      "Epoch 9/20\n",
      "300/300 [==============================] - 0s 50us/step - loss: 0.0914\n",
      "Epoch 10/20\n",
      "300/300 [==============================] - 0s 47us/step - loss: 0.0907\n",
      "Epoch 11/20\n",
      "300/300 [==============================] - 0s 46us/step - loss: 0.0901\n",
      "Epoch 12/20\n",
      "300/300 [==============================] - 0s 47us/step - loss: 0.0895\n",
      "Epoch 13/20\n",
      "300/300 [==============================] - 0s 50us/step - loss: 0.0889\n",
      "Epoch 14/20\n",
      "300/300 [==============================] - 0s 50us/step - loss: 0.0883\n",
      "Epoch 15/20\n",
      "300/300 [==============================] - 0s 50us/step - loss: 0.0877\n",
      "Epoch 16/20\n",
      "300/300 [==============================] - 0s 46us/step - loss: 0.0871\n",
      "Epoch 17/20\n",
      "300/300 [==============================] - 0s 50us/step - loss: 0.0865\n",
      "Epoch 18/20\n",
      "300/300 [==============================] - 0s 50us/step - loss: 0.0859\n",
      "Epoch 19/20\n",
      "300/300 [==============================] - 0s 50us/step - loss: 0.0854\n",
      "Epoch 20/20\n",
      "300/300 [==============================] - 0s 47us/step - loss: 0.0848\n"
     ]
    },
    {
     "name": "stderr",
     "output_type": "stream",
     "text": [
      "D:\\Anaconda3\\lib\\site-packages\\ipykernel\\__main__.py:48: UserWarning: The `nb_epoch` argument in `fit` has been renamed `epochs`.\n"
     ]
    },
    {
     "name": "stdout",
     "output_type": "stream",
     "text": [
      "Epoch 1/20\n",
      "300/300 [==============================] - 1s 5ms/step - loss: 0.0073\n",
      "Epoch 2/20\n",
      "300/300 [==============================] - 0s 50us/step - loss: 0.0072\n",
      "Epoch 3/20\n",
      "300/300 [==============================] - 0s 53us/step - loss: 0.0071\n",
      "Epoch 4/20\n",
      "300/300 [==============================] - 0s 50us/step - loss: 0.0070\n",
      "Epoch 5/20\n",
      "300/300 [==============================] - 0s 50us/step - loss: 0.0069\n",
      "Epoch 6/20\n",
      "300/300 [==============================] - 0s 50us/step - loss: 0.0068\n",
      "Epoch 7/20\n",
      "300/300 [==============================] - 0s 47us/step - loss: 0.0068\n",
      "Epoch 8/20\n",
      "300/300 [==============================] - 0s 50us/step - loss: 0.0067\n",
      "Epoch 9/20\n",
      "300/300 [==============================] - 0s 46us/step - loss: 0.0066\n",
      "Epoch 10/20\n",
      "300/300 [==============================] - 0s 47us/step - loss: 0.0065\n",
      "Epoch 11/20\n",
      "300/300 [==============================] - 0s 47us/step - loss: 0.0064\n",
      "Epoch 12/20\n",
      "300/300 [==============================] - 0s 47us/step - loss: 0.0064\n",
      "Epoch 13/20\n",
      "300/300 [==============================] - 0s 47us/step - loss: 0.0063\n",
      "Epoch 14/20\n",
      "300/300 [==============================] - 0s 47us/step - loss: 0.0062\n",
      "Epoch 15/20\n",
      "300/300 [==============================] - 0s 53us/step - loss: 0.0061\n",
      "Epoch 16/20\n",
      "300/300 [==============================] - 0s 50us/step - loss: 0.0061\n",
      "Epoch 17/20\n",
      "300/300 [==============================] - 0s 53us/step - loss: 0.0060\n",
      "Epoch 18/20\n",
      "300/300 [==============================] - 0s 50us/step - loss: 0.0059\n",
      "Epoch 19/20\n",
      "300/300 [==============================] - 0s 50us/step - loss: 0.0059\n",
      "Epoch 20/20\n",
      "300/300 [==============================] - 0s 50us/step - loss: 0.0058\n"
     ]
    },
    {
     "name": "stderr",
     "output_type": "stream",
     "text": [
      "D:\\Anaconda3\\lib\\site-packages\\ipykernel\\__main__.py:53: UserWarning: The `nb_epoch` argument in `fit` has been renamed `epochs`.\n"
     ]
    },
    {
     "name": "stdout",
     "output_type": "stream",
     "text": [
      "Epoch 1/20\n",
      "300/300 [==============================] - 1s 5ms/step - loss: 0.0185\n",
      "Epoch 2/20\n",
      "300/300 [==============================] - 0s 50us/step - loss: 0.0183\n",
      "Epoch 3/20\n",
      "300/300 [==============================] - 0s 47us/step - loss: 0.0181\n",
      "Epoch 4/20\n",
      "300/300 [==============================] - 0s 53us/step - loss: 0.0179\n",
      "Epoch 5/20\n",
      "300/300 [==============================] - 0s 53us/step - loss: 0.0176\n",
      "Epoch 6/20\n",
      "300/300 [==============================] - 0s 53us/step - loss: 0.0174\n",
      "Epoch 7/20\n",
      "300/300 [==============================] - 0s 53us/step - loss: 0.0172\n",
      "Epoch 8/20\n",
      "300/300 [==============================] - 0s 50us/step - loss: 0.0170\n",
      "Epoch 9/20\n",
      "300/300 [==============================] - 0s 50us/step - loss: 0.0167\n",
      "Epoch 10/20\n",
      "300/300 [==============================] - 0s 47us/step - loss: 0.0165\n",
      "Epoch 11/20\n",
      "300/300 [==============================] - 0s 50us/step - loss: 0.0163\n",
      "Epoch 12/20\n",
      "300/300 [==============================] - 0s 46us/step - loss: 0.0161\n",
      "Epoch 13/20\n",
      "300/300 [==============================] - 0s 50us/step - loss: 0.0159\n",
      "Epoch 14/20\n",
      "300/300 [==============================] - 0s 47us/step - loss: 0.0157\n",
      "Epoch 15/20\n",
      "300/300 [==============================] - 0s 47us/step - loss: 0.0155\n",
      "Epoch 16/20\n",
      "300/300 [==============================] - 0s 47us/step - loss: 0.0153\n",
      "Epoch 17/20\n",
      "300/300 [==============================] - 0s 43us/step - loss: 0.0151\n",
      "Epoch 18/20\n",
      "300/300 [==============================] - 0s 53us/step - loss: 0.0149\n",
      "Epoch 19/20\n",
      "300/300 [==============================] - 0s 50us/step - loss: 0.0147\n",
      "Epoch 20/20\n",
      "300/300 [==============================] - 0s 47us/step - loss: 0.0145\n"
     ]
    },
    {
     "name": "stderr",
     "output_type": "stream",
     "text": [
      "D:\\Anaconda3\\lib\\site-packages\\ipykernel\\__main__.py:57: UserWarning: The `nb_epoch` argument in `fit` has been renamed `epochs`.\n"
     ]
    },
    {
     "name": "stdout",
     "output_type": "stream",
     "text": [
      "Epoch 1/20\n",
      "300/300 [==============================] - 1s 5ms/step - loss: 0.0274\n",
      "Epoch 2/20\n",
      "300/300 [==============================] - 0s 50us/step - loss: 0.0271\n",
      "Epoch 3/20\n",
      "300/300 [==============================] - 0s 53us/step - loss: 0.0267\n",
      "Epoch 4/20\n",
      "300/300 [==============================] - 0s 50us/step - loss: 0.0263\n",
      "Epoch 5/20\n",
      "300/300 [==============================] - 0s 47us/step - loss: 0.0259\n",
      "Epoch 6/20\n",
      "300/300 [==============================] - 0s 47us/step - loss: 0.0256\n",
      "Epoch 7/20\n",
      "300/300 [==============================] - 0s 47us/step - loss: 0.0252\n",
      "Epoch 8/20\n",
      "300/300 [==============================] - 0s 43us/step - loss: 0.0248\n",
      "Epoch 9/20\n",
      "300/300 [==============================] - 0s 47us/step - loss: 0.0245\n",
      "Epoch 10/20\n",
      "300/300 [==============================] - 0s 50us/step - loss: 0.0242\n",
      "Epoch 11/20\n",
      "300/300 [==============================] - 0s 47us/step - loss: 0.0238\n",
      "Epoch 12/20\n",
      "300/300 [==============================] - 0s 47us/step - loss: 0.0235\n",
      "Epoch 13/20\n",
      "300/300 [==============================] - 0s 47us/step - loss: 0.0231\n",
      "Epoch 14/20\n",
      "300/300 [==============================] - 0s 47us/step - loss: 0.0228\n",
      "Epoch 15/20\n",
      "300/300 [==============================] - 0s 47us/step - loss: 0.0225\n",
      "Epoch 16/20\n",
      "300/300 [==============================] - 0s 47us/step - loss: 0.0222\n",
      "Epoch 17/20\n",
      "300/300 [==============================] - 0s 47us/step - loss: 0.0219\n",
      "Epoch 18/20\n",
      "300/300 [==============================] - 0s 50us/step - loss: 0.0216\n",
      "Epoch 19/20\n",
      "300/300 [==============================] - 0s 50us/step - loss: 0.0213\n",
      "Epoch 20/20\n",
      "300/300 [==============================] - 0s 47us/step - loss: 0.0210\n"
     ]
    }
   ],
   "source": [
    "from keras.layers import Input, Dense\n",
    "from keras.models import Model\n",
    "from keras import backend as K\n",
    "\n",
    "\n",
    "############################################################################# ???\n",
    "#def Auto_encoder_cost(X_input, H_Layer, X_reconstructed, W_ih, W_hr):\n",
    "    ############# Hyper-parameter #############\n",
    "#    param_sparsity = 0.01\n",
    "#    Lambda = 0.0001 # param_weight_decay\n",
    "#   Beta = 3 # param_sparse_panelty\n",
    "    ###########################################\n",
    "    \n",
    "#    average_act_hidden = tf.reduce_mean(H_Layer,axis=0)   #Average hidden layer over all data points in X, Page 14 in https://web.stanford.edu/class/cs294a/sparseAutoencoder_2011new.pdf\n",
    "#    diff = X_input - X_reconstructed\n",
    "#    KL = Kullback_Leibler_divergence(param_sparsity, average_act_hidden)\n",
    "#    cost= 0.5*tf.reduce_mean(tf.reduce_sum(tf.pow(diff,2),axis=1)) + 0.5*Lambda*(tf.nn.l2_loss(W_ih) + tf.nn.l2_loss(W_hr)) + Beta*tf.reduce_sum(KL)\n",
    "#    return cost\n",
    "\n",
    "#def Kullback_Leibler_divergence(rho, rho_hat):\n",
    "#    return rho * tf.log(rho) - rho * tf.log(rho_hat) + (1 - rho) * tf.log(1 - rho) - (1 - rho) * tf.log(1 - rho_hat) \n",
    "\n",
    "\n",
    "def Single_Layer_Autoencoder(input_dim, encoding_dim=4):\n",
    "    \n",
    "    # this is our input placeholder\n",
    "    input_encode = Input(shape=(input_dim,))\n",
    "    # \"encoded\" is the encoded representation of the input\n",
    "    encoded = Dense(encoding_dim, activation='sigmoid')(input_encode)\n",
    "    decoded = Dense(input_dim, activation='sigmoid')(encoded)\n",
    "    # this model maps an input to its reconstruction\n",
    "    autoencoder = Model(input_encode, decoded)\n",
    "    autoencoder.compile(optimizer='sgd', loss='mse')\n",
    "    return autoencoder\n",
    "\n",
    "\n",
    "def Get_layer_values(model, layer_idx):\n",
    "    get_values = K.function([model.layers[0].input], [model.layers[layer_idx].output])\n",
    "    tf.Print(get_values([0])[0])\n",
    "    return get_values([x])[0]\n",
    "    \n",
    "autoencoder1 = Single_Layer_Autoencoder(7, 4)\n",
    "print(x_train_scaled)\n",
    "autoencoder1.fit(x_train_scaled, x_train_scaled, nb_epoch=20, batch_size=16)\n",
    "autoencoder1_hidden = autoencoder1.predict(x_train_scaled)\n",
    "\n",
    "autoencoder2 = Single_Layer_Autoencoder(7, 4)\n",
    "autoencoder2.fit(autoencoder1_hidden, autoencoder1_hidden, nb_epoch=20, batch_size=16)\n",
    "autoencoder2_hidden = autoencoder2.predict(autoencoder1_hidden)\n",
    "\n",
    "\n",
    "autoencoder3 = Single_Layer_Autoencoder(7, 4)\n",
    "autoencoder3.fit(autoencoder2_hidden, autoencoder2_hidden, nb_epoch=20, batch_size=16)\n",
    "autoencoder3_hidden = autoencoder3.predict(autoencoder2_hidden)\n",
    "\n",
    "autoencoder4 = Single_Layer_Autoencoder(7, 4)\n",
    "autoencoder4.fit(autoencoder3_hidden, autoencoder3_hidden, nb_epoch=20, batch_size=16)\n",
    "autoencoder4_output = autoencoder4.predict(autoencoder3_hidden)\n"
   ]
  },
  {
   "cell_type": "markdown",
   "metadata": {},
   "source": [
    "# Data Generation"
   ]
  },
  {
   "cell_type": "code",
   "execution_count": 469,
   "metadata": {
    "collapsed": false
   },
   "outputs": [],
   "source": [
    "def batch_generator(batch_size, sequence_length):\n",
    "    \"\"\"\n",
    "    Generator function for creating random batches of training-data.\n",
    "    \"\"\"\n",
    "    # Infinite loop.\n",
    "    while True:\n",
    "        # Allocate a new array for the batch of input-signals.\n",
    "        x_shape = (batch_size, sequence_length, num_x_signals)\n",
    "        x_batch = np.zeros(shape=x_shape, dtype=np.float16)\n",
    "        # Allocate a new array for the batch of output-signals.\n",
    "        y_shape = (batch_size, sequence_length, num_y_signals)\n",
    "        y_batch = np.zeros(shape=y_shape, dtype=np.float16)\n",
    "        # Fill the batch with random sequences of data.\n",
    "        for i in range(batch_size):\n",
    "            # Get a random start-index.\n",
    "            # This points somewhere into the training-data.\n",
    "            idx = np.random.randint(num_train - sequence_length)\n",
    "            # Copy the sequences of data starting at this index.\n",
    "            x_batch[i] = x_train_scaled[idx:idx+sequence_length]\n",
    "            y_batch[i] = y_train_scaled[idx:idx+sequence_length]\n",
    "        yield (x_batch, y_batch)"
   ]
  },
  {
   "cell_type": "code",
   "execution_count": 470,
   "metadata": {
    "collapsed": true
   },
   "outputs": [],
   "source": [
    "#batch_size = 256\n",
    "batch_size = 25\n",
    "sequence_length = 220\n",
    "generator = batch_generator(batch_size=batch_size, sequence_length=sequence_length)"
   ]
  },
  {
   "cell_type": "code",
   "execution_count": 471,
   "metadata": {
    "collapsed": true
   },
   "outputs": [],
   "source": [
    "x_batch, y_batch = next(generator)"
   ]
  },
  {
   "cell_type": "code",
   "execution_count": 472,
   "metadata": {
    "collapsed": false
   },
   "outputs": [
    {
     "name": "stdout",
     "output_type": "stream",
     "text": [
      "(25, 220, 7)\n",
      "(25, 220, 1)\n"
     ]
    }
   ],
   "source": [
    "# Provides randomized 256 batches. Each sequence has 1344 time-series observations. Each observation has 6 inputs and 1 outputs# Provid \n",
    "print(x_batch.shape)\n",
    "print(y_batch.shape)"
   ]
  },
  {
   "cell_type": "code",
   "execution_count": 473,
   "metadata": {
    "collapsed": false,
    "scrolled": true
   },
   "outputs": [
    {
     "data": {
      "text/plain": [
       "[<matplotlib.lines.Line2D at 0x22ed236ec50>]"
      ]
     },
     "execution_count": 473,
     "metadata": {},
     "output_type": "execute_result"
    },
    {
     "data": {
      "image/png": "[encoded data removed]",
      "text/plain": [
       "<matplotlib.figure.Figure at 0x22ed0bd86a0>"
      ]
     },
     "metadata": {},
     "output_type": "display_data"
    }
   ],
   "source": [
    "batch = 0 # First sequence in the batch.\n",
    "signal = 0 # First signal from the 20 input-signals.\n",
    "seq = x_batch[batch, :, signal]\n",
    "plt.plot(seq)"
   ]
  },
  {
   "cell_type": "code",
   "execution_count": 474,
   "metadata": {
    "collapsed": false
   },
   "outputs": [
    {
     "data": {
      "text/plain": [
       "[<matplotlib.lines.Line2D at 0x22ed019ff98>]"
      ]
     },
     "execution_count": 474,
     "metadata": {},
     "output_type": "execute_result"
    },
    {
     "data": {
      "image/png": "[encoded data removed]",
      "text/plain": [
       "<matplotlib.figure.Figure at 0x22ed0e48550>"
      ]
     },
     "metadata": {},
     "output_type": "display_data"
    }
   ],
   "source": [
    "seq = y_batch[batch, :, signal]\n",
    "plt.plot(seq)"
   ]
  },
  {
   "cell_type": "markdown",
   "metadata": {},
   "source": [
    "# Validation set"
   ]
  },
  {
   "cell_type": "code",
   "execution_count": 475,
   "metadata": {
    "collapsed": true
   },
   "outputs": [],
   "source": [
    "validation_data = (np.expand_dims(x_test_scaled, axis=0), np.expand_dims(y_test_scaled, axis=0))"
   ]
  },
  {
   "cell_type": "markdown",
   "metadata": {},
   "source": [
    "# Build a LSTM model"
   ]
  },
  {
   "cell_type": "code",
   "execution_count": 476,
   "metadata": {
    "collapsed": true
   },
   "outputs": [],
   "source": [
    "from tensorflow.python.keras.models import Sequential\n",
    "from tensorflow.python.keras.layers import Input, Dense, LSTM, Embedding\n",
    "from tensorflow.python.keras.optimizers import Adagrad\n",
    "from tensorflow.python.keras.callbacks import EarlyStopping, ModelCheckpoint, TensorBoard, ReduceLROnPlateau"
   ]
  },
  {
   "cell_type": "code",
   "execution_count": 477,
   "metadata": {
    "collapsed": true
   },
   "outputs": [],
   "source": [
    "LSTM_model = Sequential()\n",
    "#LSTM_model.add(LSTM(units=512, return_sequences=True, input_shape=(None, num_x_signals,)))\n",
    "LSTM_model.add(LSTM(units=220, return_sequences=True, input_shape=(None, num_x_signals,)))\n",
    "LSTM_model.add(Dense(num_y_signals, activation='sigmoid'))\n",
    "if False:\n",
    "    from tensorflow.python.keras.initializers import RandomUniform\n",
    "    # Maybe use lower init-ranges.\n",
    "    init = RandomUniform(minval=-0.05, maxval=0.05)\n",
    "    LSTM_model.add(Dense(num_y_signals, activation='linear', kernel_initializer=init))"
   ]
  },
  {
   "cell_type": "markdown",
   "metadata": {},
   "source": [
    "## loss function"
   ]
  },
  {
   "cell_type": "code",
   "execution_count": 478,
   "metadata": {
    "collapsed": false
   },
   "outputs": [],
   "source": [
    " warmup_steps = 50\n",
    "def loss_softmax_cross_entropy_warmup(y_true, y_pred):\n",
    "    \n",
    "    # by taking slices of the tensors.\n",
    "     y_true_slice = y_true[:, warmup_steps:, :]\n",
    "        y_pred_slice = y_pred[:, warmup_steps:, :]\n",
    "    \n",
    "    # Classification 문제이기 때문에 softmax cross-entropy를 쓴다.\n",
    "     loss = tf.losses.softmax_cross_entropy(onehot_labels=y_true_slice, logits=y_pred_slice )\n",
    "        loss_mean = tf.reduce_mean(loss)\n",
    "     return loss_mean\n",
    "\n",
    "\n",
    "# from sklearn.metrics import r2_score\n",
    "# import matplotlib.pyplot as plt\n",
    "\n",
    "# Mean Absolute percentage error\n",
    "# def mean_absolute_percentage_error(y_true, y_pred):\n",
    "    #y_true, y_pred = np.array(y_true), np.array(y_pred)\n",
    "#     return np.mean(np.abs((y_true - y_pred) / y_true)) * 100\n",
    "\n",
    "##indicator MAPE\n",
    "# print(mean_absolute_percentage_error(y_true, y_pred))\n",
    "# R-squared\n",
    "# print(r2_score(y_true, y_pred))\n",
    "\n",
    "# Theil_U\n",
    "# def Theil_U(y_true, y_pred):\n",
    "#     y_true, y_pred = np.array(y_true), np.array(y_pred)\n",
    "#     return(np.mean((np.square(y_true - y_pred)))/(np.sqrt(np.mean(np.square(y_true)))+np.sqrt(np.mean(np.square(y_pred)))))"
   ]
  },
  {
   "cell_type": "markdown",
   "metadata": {},
   "source": [
    "## model compile"
   ]
  },
  {
   "cell_type": "code",
   "execution_count": 485,
   "metadata": {
    "collapsed": false
   },
   "outputs": [],
   "source": [
    "from keras import losses\n",
    "optimizer = Adagrad(lr=1e-3)\n",
    "LSTM_model.compile(loss='mse', optimizer=optimizer)"
   ]
  },
  {
   "cell_type": "code",
   "execution_count": 486,
   "metadata": {
    "collapsed": false
   },
   "outputs": [
    {
     "name": "stdout",
     "output_type": "stream",
     "text": [
      "_________________________________________________________________\n",
      "Layer (type)                 Output Shape              Param #   \n",
      "=================================================================\n",
      "lstm_9 (LSTM)                (None, None, 220)         200640    \n",
      "_________________________________________________________________\n",
      "dense_9 (Dense)              (None, None, 1)           221       \n",
      "=================================================================\n",
      "Total params: 200,861\n",
      "Trainable params: 200,861\n",
      "Non-trainable params: 0\n",
      "_________________________________________________________________\n"
     ]
    }
   ],
   "source": [
    "LSTM_model.summary()"
   ]
  },
  {
   "cell_type": "markdown",
   "metadata": {},
   "source": [
    "## callback functions for tensorboard"
   ]
  },
  {
   "cell_type": "code",
   "execution_count": 487,
   "metadata": {
    "collapsed": true
   },
   "outputs": [],
   "source": [
    "path_checkpoint = '23_checkpoint.keras'\n",
    "## Recording checkpoints\n",
    "callback_checkpoint = ModelCheckpoint(filepath=path_checkpoint, monitor='val_loss', verbose=1, save_weights_only=True, save_best_only=True)\n",
    "## If performance in Validation set gets worse, then stop training\n",
    "callback_early_stopping = EarlyStopping(monitor='val_loss',patience=5, verbose=1)\n",
    "## \n",
    "callback_tensorboard = TensorBoard(log_dir='./logs/SAE_test10',histogram_freq=0,write_graph=False)\n",
    "callback_reduce_lr = ReduceLROnPlateau(monitor='val_loss',factor=0.1,min_lr=1e-4,patience=0,verbose=1)\n",
    "callbacks = [callback_early_stopping, callback_checkpoint, callback_tensorboard, callback_reduce_lr]"
   ]
  },
  {
   "cell_type": "markdown",
   "metadata": {},
   "source": [
    "## Train the model "
   ]
  },
  {
   "cell_type": "code",
   "execution_count": 488,
   "metadata": {
    "collapsed": false
   },
   "outputs": [
    {
     "name": "stdout",
     "output_type": "stream",
     "text": [
      "Epoch 1/20\n",
      " 99/100 [============================>.] - ETA: 0s - loss: 0.0217\n",
      "Epoch 00001: val_loss improved from inf to 0.26149, saving model to 23_checkpoint.keras\n",
      "100/100 [==============================] - 41s 411ms/step - loss: 0.0216 - val_loss: 0.2615\n",
      "Epoch 2/20\n",
      " 99/100 [============================>.] - ETA: 0s - loss: 0.0080\n",
      "Epoch 00002: val_loss did not improve from 0.26149\n",
      "\n",
      "Epoch 00002: ReduceLROnPlateau reducing learning rate to 0.00010000000474974513.\n",
      "100/100 [==============================] - 37s 369ms/step - loss: 0.0080 - val_loss: 0.2811\n",
      "Epoch 3/20\n",
      " 99/100 [============================>.] - ETA: 0s - loss: 0.0069\n",
      "Epoch 00003: val_loss did not improve from 0.26149\n",
      "\n",
      "Epoch 00003: ReduceLROnPlateau reducing learning rate to 0.0001.\n",
      "100/100 [==============================] - 36s 364ms/step - loss: 0.0069 - val_loss: 0.2831\n",
      "Epoch 4/20\n",
      " 99/100 [============================>.] - ETA: 0s - loss: 0.0068\n",
      "Epoch 00004: val_loss did not improve from 0.26149\n",
      "100/100 [==============================] - 36s 364ms/step - loss: 0.0068 - val_loss: 0.2839\n",
      "Epoch 5/20\n",
      " 99/100 [============================>.] - ETA: 0s - loss: 0.0067\n",
      "Epoch 00005: val_loss did not improve from 0.26149\n",
      "100/100 [==============================] - 36s 362ms/step - loss: 0.0067 - val_loss: 0.2847\n",
      "Epoch 6/20\n",
      " 99/100 [============================>.] - ETA: 0s - loss: 0.0066\n",
      "Epoch 00006: val_loss did not improve from 0.26149\n",
      "100/100 [==============================] - 36s 365ms/step - loss: 0.0066 - val_loss: 0.2854\n",
      "Epoch 00006: early stopping\n",
      "Wall time: 3min 44s\n"
     ]
    },
    {
     "data": {
      "text/plain": [
       "<tensorflow.python.keras.callbacks.History at 0x22edc867e48>"
      ]
     },
     "execution_count": 488,
     "metadata": {},
     "output_type": "execute_result"
    }
   ],
   "source": [
    "%%time\n",
    "LSTM_model.fit_generator(generator=generator, epochs=20, steps_per_epoch=100, validation_data=validation_data, callbacks=callbacks)"
   ]
  },
  {
   "cell_type": "markdown",
   "metadata": {},
   "source": [
    "## Read checkpoints when early-stopping occurs"
   ]
  },
  {
   "cell_type": "code",
   "execution_count": 489,
   "metadata": {
    "collapsed": true
   },
   "outputs": [],
   "source": [
    "try:\n",
    "    LSTM_model.load_weights(path_checkpoint)\n",
    "except Exception as error:\n",
    "    print(\"Error trying to load checkpoint.\")\n",
    "    print(error)"
   ]
  },
  {
   "cell_type": "markdown",
   "metadata": {},
   "source": [
    "## Evaluation the model to the test set"
   ]
  },
  {
   "cell_type": "code",
   "execution_count": 490,
   "metadata": {
    "collapsed": false
   },
   "outputs": [
    {
     "name": "stdout",
     "output_type": "stream",
     "text": [
      "\r",
      "1/1 [==============================] - 0s 77ms/step\n"
     ]
    }
   ],
   "source": [
    "result = LSTM_model.evaluate(x=np.expand_dims(x_test_scaled, axis=0),\n",
    "y=np.expand_dims(y_test_scaled, axis=0))"
   ]
  },
  {
   "cell_type": "code",
   "execution_count": 491,
   "metadata": {
    "collapsed": false
   },
   "outputs": [
    {
     "name": "stdout",
     "output_type": "stream",
     "text": [
      "loss (test-set): 0.26149147748947144\n"
     ]
    }
   ],
   "source": [
    "print(\"loss (test-set):\", result)"
   ]
  },
  {
   "cell_type": "code",
   "execution_count": 492,
   "metadata": {
    "collapsed": true
   },
   "outputs": [],
   "source": [
    "# 만약 여러가지 측정치를 사용한다면 다음의 방법으로 측정할 수 있습니다.\n",
    "if False:\n",
    "    for res, metric in zip(result, LSTM_model.metrics_names):\n",
    "        print(\"{0}: {1:.3e}\".format(metric, res))"
   ]
  },
  {
   "cell_type": "markdown",
   "metadata": {},
   "source": [
    "## Visualication of prediction and real values"
   ]
  },
  {
   "cell_type": "code",
   "execution_count": 493,
   "metadata": {
    "collapsed": false
   },
   "outputs": [],
   "source": [
    "\n",
    "def plot_comparison(start_idx, length=100, train=True):\n",
    "    \"\"\"\n",
    "    Plot the predicted and true output-signals.\n",
    "    :param start_idx: Start-index for the time-series.\n",
    "    :param length: Sequence-length to process and plot.\n",
    "    :param train: Boolean whether to use training- or test-set.\n",
    "    \"\"\"\n",
    "    if train:\n",
    "        # Use training-data.\n",
    "        x = x_train_scaled\n",
    "        y_true = y_train\n",
    "    else:\n",
    "        # Use test-data.\n",
    "        x = x_test_scaled\n",
    "        y_true = y_test\n",
    "    \n",
    "    print(\"y_train : \", y_train.shape)\n",
    "    \n",
    "    # End-index for the sequences.\n",
    "    end_idx = start_idx + length\n",
    "    # Select the sequences from the given start-index and\n",
    "    # of the given length.\n",
    "    x = x[start_idx:end_idx]\n",
    "    y_true = y_true[start_idx:end_idx]\n",
    "    # Input-signals for the model.\n",
    "    print(\"y_true : \", y_true.shape)\n",
    "    print(\"x : \", x.shape)\n",
    "    x = np.expand_dims(x, axis=0)\n",
    "    print(\"x : \" , x.shape)\n",
    "    # Use the model to predict the output-signals.\n",
    "    y_pred = LSTM_model.predict(x)    \n",
    "    print(\"y_pred : \", y_pred.shape)\n",
    "\n",
    "    \n",
    "    new_y_pred = np.ndarray([100, 3])\n",
    "    print(new_y_pred.shape)\n",
    "\n",
    "    \n",
    "    # The output of the model is between 0 and 1.\n",
    "    # Do an inverse map to get it back to the scale\n",
    "    # of the original data-set.\n",
    "    y_pred_rescaled = y_scaler.inverse_transform(y_pred[0])\n",
    "    print(\"y_pred_rescaled :\",y_pred_rescaled.shape)\n",
    "    # For each output-signal.\n",
    "    for signal in range(1):\n",
    "        # Get the output-signal predicted by the model.\n",
    "        signal_pred = y_pred_rescaled[:, signal]\n",
    "        # Get the true output-signal from the data-set.        \n",
    "        signal_true = y_true[:, signal]\n",
    "        # Make the plotting-canvas bigger.\n",
    "        plt.figure(figsize=(15,5))\n",
    "        # Plot and compare the two signals.\n",
    "        plt.plot(signal_true, label='true')\n",
    "        plt.plot(signal_pred, label='pred')\n",
    "        # Plot grey box for warmup-period.\n",
    "        p = plt.axvspan(0, warmup_steps, facecolor='black', alpha=0.15)\n",
    "        # Plot labels etc.\n",
    "        #plt.ylabel(target_names[signal])\n",
    "        plt.legend()\n",
    "        plt.show()\n",
    "    \n",
    "    print(\"y_pred type: \",type(y_pred[0]))\n",
    "    y_pred=y_pred[0].tolist()\n",
    "   \n",
    "    \n",
    "    return y_pred\n",
    "\n",
    "        "
   ]
  },
  {
   "cell_type": "code",
   "execution_count": 494,
   "metadata": {
    "collapsed": false
   },
   "outputs": [
    {
     "name": "stdout",
     "output_type": "stream",
     "text": [
      "y_train :  (300, 1)\n",
      "y_true :  (290, 1)\n",
      "x :  (290, 7)\n",
      "x :  (1, 290, 7)\n",
      "y_pred :  (1, 290, 1)\n",
      "(100, 3)\n",
      "y_pred_rescaled : (290, 1)\n"
     ]
    },
    {
     "data": {
      "image/png": "[encoded data removed]",
      "text/plain": [
       "<matplotlib.figure.Figure at 0x22ecfbfe048>"
      ]
     },
     "metadata": {},
     "output_type": "display_data"
    },
    {
     "name": "stdout",
     "output_type": "stream",
     "text": [
      "y_pred type:  <class 'numpy.ndarray'>\n"
     ]
    }
   ],
   "source": [
    "y_pred_scaled_data=plot_comparison(start_idx=10, length=300, train=True)"
   ]
  },
  {
   "cell_type": "code",
   "execution_count": 495,
   "metadata": {
    "collapsed": false
   },
   "outputs": [
    {
     "name": "stdout",
     "output_type": "stream",
     "text": [
      "y_train :  (300, 1)\n",
      "y_true :  (200, 1)\n",
      "x :  (200, 7)\n",
      "x :  (1, 200, 7)\n",
      "y_pred :  (1, 200, 1)\n",
      "(100, 3)\n",
      "y_pred_rescaled : (200, 1)\n"
     ]
    },
    {
     "data": {
      "image/png": "[encoded data removed]",
      "text/plain": [
       "<matplotlib.figure.Figure at 0x22ed0657198>"
      ]
     },
     "metadata": {},
     "output_type": "display_data"
    },
    {
     "name": "stdout",
     "output_type": "stream",
     "text": [
      "y_pred type:  <class 'numpy.ndarray'>\n"
     ]
    }
   ],
   "source": [
    "y_pred_scaled_data=plot_comparison(start_idx=0, length=500, train=False)"
   ]
  },
  {
   "cell_type": "code",
   "execution_count": null,
   "metadata": {
    "collapsed": true
   },
   "outputs": [],
   "source": []
  }
 ],
 "metadata": {
  "anaconda-cloud": {},
  "kernelspec": {
   "display_name": "Python [default]",
   "language": "python",
   "name": "python3"
  },
  "language_info": {
   "codemirror_mode": {
    "name": "ipython",
    "version": 3
   },
   "file_extension": ".py",
   "mimetype": "text/x-python",
   "name": "python",
   "nbconvert_exporter": "python",
   "pygments_lexer": "ipython3",
   "version": "3.5.2"
  }
 },
 "nbformat": 4,
 "nbformat_minor": 1
}
