{
 "cells": [
  {
   "cell_type": "code",
   "execution_count": 3,
   "metadata": {},
   "outputs": [],
   "source": [
    "import datetime\n",
    "from datetime import time, tzinfo, timedelta, datetime"
   ]
  },
  {
   "cell_type": "markdown",
   "metadata": {},
   "source": [
    "# str을 datetime 형으로"
   ]
  },
  {
   "cell_type": "code",
   "execution_count": 22,
   "metadata": {},
   "outputs": [
    {
     "name": "stdout",
     "output_type": "stream",
     "text": [
      "2017-08-09T14:30:00 <class 'str'>\n"
     ]
    }
   ],
   "source": [
    "SampleTime = \"2017-08-09T14:30:00.0000000Z\"\n",
    "SampleTime_no_microsec = SampleTime.split(\".\")[0]   # 뒤의 마이크로초를 버린다\n",
    "print(SampleTime_no_microsec, type(SampleTime_no_microsec))"
   ]
  },
  {
   "cell_type": "code",
   "execution_count": 21,
   "metadata": {},
   "outputs": [
    {
     "name": "stdout",
     "output_type": "stream",
     "text": [
      "2017-08-09 14:30:00 <class 'datetime.datetime'>\n"
     ]
    }
   ],
   "source": [
    "myDatetime = datetime.strptime(SampleTime_no_microsec, '%Y-%m-%dT%H:%M:%S')  # Str 타입을 datetime object로 변환한다.\n",
    "print(myDatetime, type(myDatetime))"
   ]
  },
  {
   "cell_type": "markdown",
   "metadata": {},
   "source": [
    "## 현재시간"
   ]
  },
  {
   "cell_type": "code",
   "execution_count": 8,
   "metadata": {},
   "outputs": [
    {
     "name": "stdout",
     "output_type": "stream",
     "text": [
      "2018-08-03 17:19:29.329327\n",
      "2018-08-03 08:19:29.329327\n"
     ]
    }
   ],
   "source": [
    "print(datetime.now())   # Local Time zone\n",
    "print(datetime.utcnow()) # UTC"
   ]
  },
  {
   "cell_type": "markdown",
   "metadata": {},
   "source": [
    "# Time Zone"
   ]
  },
  {
   "cell_type": "code",
   "execution_count": 33,
   "metadata": {},
   "outputs": [],
   "source": [
    "import pytz\n",
    "from pytz import all_timezones, timezone"
   ]
  },
  {
   "cell_type": "code",
   "execution_count": 39,
   "metadata": {},
   "outputs": [
    {
     "name": "stdout",
     "output_type": "stream",
     "text": [
      "2017-08-09 14:30:00  In Korea\n",
      "2017-08-09 05:30:00+00:00  UTC\n"
     ]
    }
   ],
   "source": [
    "UTC = pytz.utc  # Coordinated Universal Time = Greenwich Mean Time (GMT)\n",
    "Korea = timezone('Asia/Seoul')\n",
    "print(myDatetime, \" In Korea\")\n",
    "KoreaTime = Korea.localize(myDatetime) # myDatetime이 한국시간일 경우\n",
    "UTCTime = KoreaTime.astimezone(UTC)  # 국제 표준시로 변환\n",
    "print(UTCTime, \" UTC\")"
   ]
  }
 ],
 "metadata": {
  "kernelspec": {
   "display_name": "Python 3",
   "language": "python",
   "name": "python3"
  },
  "language_info": {
   "codemirror_mode": {
    "name": "ipython",
    "version": 3
   },
   "file_extension": ".py",
   "mimetype": "text/x-python",
   "name": "python",
   "nbconvert_exporter": "python",
   "pygments_lexer": "ipython3",
   "version": "3.5.2"
  }
 },
 "nbformat": 4,
 "nbformat_minor": 2
}
