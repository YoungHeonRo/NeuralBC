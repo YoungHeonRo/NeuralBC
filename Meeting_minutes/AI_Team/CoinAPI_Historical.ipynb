{
 "cells": [
  {
   "cell_type": "code",
   "execution_count": 8,
   "metadata": {},
   "outputs": [
    {
     "data": {
      "text/plain": [
       "<pymongo.results.InsertManyResult at 0x1e0a5c93cc8>"
      ]
     },
     "execution_count": 8,
     "metadata": {},
     "output_type": "execute_result"
    }
   ],
   "source": [
    "import sys\n",
    "import json\n",
    "from pymongo import *\n",
    "from bson import *\n",
    "import requests\n",
    "\n",
    "# Coin data\n",
    "url = 'https://rest.coinapi.io/v1/ohlcv/BITSTAMP_SPOT_BTC_USD/history?period_id=30MIN&time_start=2016-01-01T00:00:00&time_end=2016-01-01T06:00:00'\n",
    "headers = {'X-CoinAPI-Key' : '9E9A7D62-16E1-4A51-BB55-E72C73817ED3'}\n",
    "response = requests.get(url, headers=headers)\n",
    "\n",
    "data = json.loads(response.text)\n",
    "\n",
    "# Connetion MongoDB\n",
    "client = MongoClient('52.79.241.214', 27017)\n",
    "db = client['Coin']\n",
    "collection = db['BTC_his']\n",
    "\n",
    "collection.insert_many(data)"
   ]
  },
  {
   "cell_type": "code",
   "execution_count": null,
   "metadata": {},
   "outputs": [],
   "source": []
  }
 ],
 "metadata": {
  "kernelspec": {
   "display_name": "Python 3",
   "language": "python",
   "name": "python3"
  },
  "language_info": {
   "codemirror_mode": {
    "name": "ipython",
    "version": 3
   },
   "file_extension": ".py",
   "mimetype": "text/x-python",
   "name": "python",
   "nbconvert_exporter": "python",
   "pygments_lexer": "ipython3",
   "version": "3.6.5"
  }
 },
 "nbformat": 4,
 "nbformat_minor": 2
}
