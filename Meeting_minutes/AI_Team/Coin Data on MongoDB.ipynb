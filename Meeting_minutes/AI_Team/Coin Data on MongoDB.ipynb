{
 "cells": [
  {
   "cell_type": "code",
   "execution_count": 19,
   "metadata": {},
   "outputs": [],
   "source": [
    "import sys\n",
    "import pandas as pd\n",
    "import pymongo\n",
    "import csv\n",
    "import json\n",
    "import os\n",
    "from datetime import *\n",
    "\n",
    "change_csv = pd.read_csv(\"C:\\\\Users\\\\user\\\\Downloads\\\\Bitcoin.csv\")\n",
    "del change_csv['Change %']\n",
    "change_csv.rename(columns={change_csv.columns[5]:\"Volume\"}, inplace=True)\n",
    "change_csv = change_csv[change_csv['Volume'] != '-']\n",
    "change_csv['Date'] = pd.to_datetime(change_csv['Date'])\n",
    "test = list(change_csv['Volume'])\n",
    "\n",
    "result = []\n",
    "for i, x in enumerate(test):\n",
    "    element = x\n",
    "    new_element = float(element[:][:-1])\n",
    "    if element[:][-1:] == 'M':\n",
    "        result.append(new_element * 1000000)\n",
    "    elif element[:][-1:] == \"K\":\n",
    "        result.append(new_element * 1000)\n",
    "\n",
    "change_csv['Volume'] = result\n",
    "change_csv.to_csv(\"C:\\\\Users\\\\user\\\\Downloads\\\\Bitcoin_2.csv\", index=False)"
   ]
  },
  {
   "cell_type": "code",
   "execution_count": 20,
   "metadata": {},
   "outputs": [],
   "source": [
    "def import_content(filepath):\n",
    "    mng_client = pymongo.MongoClient('52.79.241.214', 27017)\n",
    "    mng_db = mng_client['Coin'] # Replace mongo db name\n",
    "    collection_name = 'Bitcoin' # Replace mongo db collection name\n",
    "    db_cm = mng_db[collection_name]\n",
    "    cdir = os.path.dirname('C:\\\\Users\\\\user\\\\Downloads\\\\Bitcoin_2.csv')\n",
    "    file_res = os.path.join(cdir, filepath)\n",
    "\n",
    "    data = pd.read_csv(file_res)\n",
    "    data_json = json.loads(data.to_json(orient='records'))\n",
    "    db_cm.insert_many(data_json)\n",
    "    \n",
    "if __name__ == \"__main__\":\n",
    "  filepath = 'C:\\\\Users\\\\user\\\\Downloads\\\\Bitcoin_2.csv' # pass csv file path\n",
    "  import_content(filepath)"
   ]
  },
  {
   "cell_type": "code",
   "execution_count": null,
   "metadata": {},
   "outputs": [],
   "source": []
  }
 ],
 "metadata": {
  "kernelspec": {
   "display_name": "Python 3",
   "language": "python",
   "name": "python3"
  },
  "language_info": {
   "codemirror_mode": {
    "name": "ipython",
    "version": 3
   },
   "file_extension": ".py",
   "mimetype": "text/x-python",
   "name": "python",
   "nbconvert_exporter": "python",
   "pygments_lexer": "ipython3",
   "version": "3.6.5"
  }
 },
 "nbformat": 4,
 "nbformat_minor": 2
}
